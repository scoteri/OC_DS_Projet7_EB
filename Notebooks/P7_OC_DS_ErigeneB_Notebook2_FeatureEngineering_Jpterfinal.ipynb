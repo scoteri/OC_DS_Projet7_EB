{
 "cells": [
  {
   "cell_type": "markdown",
   "metadata": {
    "id": "sHOiSw4knKEE"
   },
   "source": [
    "# Projet 7 : Implémentez un modèle de scoring"
   ]
  },
  {
   "cell_type": "markdown",
   "metadata": {
    "id": "JE7NpnGbnKEM"
   },
   "source": [
    "## Problématique"
   ]
  },
  {
   "cell_type": "markdown",
   "metadata": {
    "id": "GoBJC55znKEP"
   },
   "source": [
    "L'objectif est de développer un modèle de scoring de la probabilité de défaut de paiement d'un client pour étayer la décision d'accorder ou non un prêt à un client potentiel en s’appuyant sur des sources de données variées (données comportementales, données provenant d'autres institutions financières, ...)."
   ]
  },
  {
   "cell_type": "markdown",
   "metadata": {
    "id": "iapqEvM3nKER"
   },
   "source": [
    "L'objectif de ce notebook :\n",
    "\n",
    "* Choisir les features pertinentes pour la modélisation en se basant sur le kernel EDA précédent de l'analyse exploratoire.\n",
    "* Choisir les variables numériques suivants les critères suivantes:\n",
    "\n",
    "- choisir features corrélées avec la variable Target.\n",
    "- Eviter les feautures très corrélées entre elles.\n",
    "- choisir les features avec un seuil des variables manquantes inférieur à 60 %.\n",
    "- Créer des nouvelles features pertinentes.\n",
    "\n",
    "* Choisir les variables catégoriques suivants les critères suivantes:\n",
    "\n",
    "- choisir les features avec un seuil des variables manquantes inférieur à 60 %.\n",
    "- choisir les features avec le minimum de modes sinon les mapper .\n",
    "- choisir des features qui ont des relations avec la target en se basant sur l'analyse exploratoire.\n"
   ]
  },
  {
   "cell_type": "code",
   "execution_count": 4,
   "metadata": {
    "colab": {
     "base_uri": "https://localhost:8080/"
    },
    "id": "WWbb4qk7nKEU",
    "outputId": "7c274417-295c-41c3-9077-44daff94467b"
   },
   "outputs": [],
   "source": [
    "#from google.colab import files, output, drive\n",
    "#drive.mount('/gdrive')\n",
    "#%cd /gdrive"
   ]
  },
  {
   "cell_type": "markdown",
   "metadata": {
    "id": "9fYg7G5ynKEa"
   },
   "source": [
    "## Importation des modules"
   ]
  },
  {
   "cell_type": "code",
   "execution_count": 5,
   "metadata": {
    "id": "pzWorasOnKEb"
   },
   "outputs": [],
   "source": [
    "import pandas as pd \n",
    "import numpy as np\n",
    "import gc\n",
    "%matplotlib inline \n",
    "from lightgbm import LGBMClassifier\n",
    "import warnings\n",
    "warnings.filterwarnings('ignore')\n",
    "pd.set_option('display.max_columns', None)\n",
    "pd.options.display.float_format = '{:,.2f}'.format"
   ]
  },
  {
   "cell_type": "code",
   "execution_count": 6,
   "metadata": {
    "colab": {
     "base_uri": "https://localhost:8080/",
     "height": 37
    },
    "id": "MHRuK4nfnvPn",
    "outputId": "14626d72-9f6e-4845-ffc6-58ed163f0635"
   },
   "outputs": [
    {
     "data": {
      "text/plain": [
       "'/home/ebakangu/Projet7/Notebooks'"
      ]
     },
     "execution_count": 6,
     "metadata": {},
     "output_type": "execute_result"
    }
   ],
   "source": [
    "import os\n",
    "os.getcwd()"
   ]
  },
  {
   "cell_type": "code",
   "execution_count": 7,
   "metadata": {},
   "outputs": [],
   "source": [
    "# Reduce Memory Usage\n",
    "def reduce_mem_usage(df):\n",
    "    \"\"\" iterate through all the columns of a dataframe and modify the data type\n",
    "        to reduce memory usage.        \n",
    "    \"\"\"\n",
    "    start_mem = df.memory_usage().sum() / 1024**2\n",
    "    print('Memory usage of dataframe is {:.2f} MB'.format(start_mem))\n",
    "    \n",
    "    for col in df.columns:\n",
    "        col_type = df[col].dtype\n",
    "        \n",
    "        if col_type != object:\n",
    "            c_min = df[col].min()\n",
    "            c_max = df[col].max()\n",
    "            \n",
    "            if str(col_type)[:3] == 'int':\n",
    "                if c_min > np.iinfo(np.int8).min and c_max < np.iinfo(np.int8).max:\n",
    "                    df[col] = df[col].astype(np.int8)\n",
    "                elif c_min > np.iinfo(np.int16).min and c_max < np.iinfo(np.int16).max:\n",
    "                    df[col] = df[col].astype(np.int16)\n",
    "                elif c_min > np.iinfo(np.int32).min and c_max < np.iinfo(np.int32).max:\n",
    "                    df[col] = df[col].astype(np.int32)\n",
    "                elif c_min > np.iinfo(np.int64).min and c_max < np.iinfo(np.int64).max:\n",
    "                    df[col] = df[col].astype(np.int64)  \n",
    "            else:\n",
    "                if c_min > np.finfo(np.float16).min and c_max < np.finfo(np.float16).max:\n",
    "                    df[col] = df[col].astype(np.float16)\n",
    "                elif c_min > np.finfo(np.float32).min and c_max < np.finfo(np.float32).max:\n",
    "                    df[col] = df[col].astype(np.float32)\n",
    "                else:\n",
    "                    df[col] = df[col].astype(np.float64)\n",
    "        else:\n",
    "            df[col] = df[col].astype('category')\n",
    "\n",
    "    end_mem = df.memory_usage().sum() / 1024**2\n",
    "    print('Memory usage after optimization is: {:.2f} MB'.format(end_mem))\n",
    "    print('Decreased by {:.1f}%'.format(100 * (start_mem - end_mem) / start_mem))\n",
    "    \n",
    "    return df\n",
    "\n",
    "\n",
    "# One-hot encoding for categorical columns with get_dummies\n",
    "def one_hot_encoder(df, nan_as_category=True):\n",
    "    original_columns = list(df.columns)\n",
    "    categorical_columns = df.select_dtypes([\"category\", \"object\"]).columns.tolist()\n",
    "    # categorical_columns = [col for col in df.columns if df[col].dtype == 'object']\n",
    "    df = pd.get_dummies(df, columns=categorical_columns, dummy_na=nan_as_category)\n",
    "    new_columns = [c for c in df.columns if c not in original_columns]\n",
    "    return df, new_columns\n",
    "\n",
    "# Grab Column Names\n",
    "def grab_col_names(dataframe, cat_th=10, car_th=20, show_date=False):\n",
    "    date_cols = [col for col in dataframe.columns if dataframe[col].dtypes == \"datetime64[ns]\"]\n",
    "\n",
    "    #cat_cols = [col for col in dataframe.columns if dataframe[col].dtypes == \"O\"]\n",
    "    cat_cols = dataframe.select_dtypes([\"object\", \"category\"]).columns.tolist()\n",
    "    \n",
    "    \n",
    "    \n",
    "    num_but_cat = [col for col in dataframe.select_dtypes([\"float\", \"integer\"]).columns if dataframe[col].nunique() < cat_th]\n",
    "\n",
    "    cat_but_car = [col for col in dataframe.select_dtypes([\"object\", \"category\"]).columns if dataframe[col].nunique() > car_th]\n",
    "\n",
    "    cat_cols = cat_cols + num_but_cat\n",
    "    cat_cols = [col for col in cat_cols if col not in cat_but_car]\n",
    "\n",
    "    num_cols = dataframe.select_dtypes([\"float\", \"integer\"]).columns\n",
    "    num_cols = [col for col in num_cols if col not in num_but_cat]\n",
    "\n",
    "    print(f\"Observations: {dataframe.shape[0]}\")\n",
    "    print(f\"Variables: {dataframe.shape[1]}\")\n",
    "    print(f'date_cols: {len(date_cols)}')\n",
    "    print(f'cat_cols: {len(cat_cols)}')\n",
    "    print(f'num_cols: {len(num_cols)}')\n",
    "    print(f'cat_but_car: {len(cat_but_car)}')\n",
    "    print(f'num_but_cat: {len(num_but_cat)}')\n",
    "\n",
    "    # cat_cols + num_cols + cat_but_car = değişken sayısı.\n",
    "    # num_but_cat cat_cols'un içerisinde zaten.\n",
    "    # dolayısıyla tüm şu 3 liste ile tüm değişkenler seçilmiş olacaktır: cat_cols + num_cols + cat_but_car\n",
    "    # num_but_cat sadece raporlama için verilmiştir.\n",
    "\n",
    "    if show_date == True:\n",
    "        return date_cols, cat_cols, cat_but_car, num_cols, num_but_cat\n",
    "    else:\n",
    "        return cat_cols, cat_but_car, num_cols, num_but_cat\n",
    "\n",
    "# Categorical Variables & Target\n",
    "def cat_analyzer(dataframe, variable, target = None):\n",
    "    print(variable)\n",
    "    if target == None:\n",
    "        print(pd.DataFrame({\n",
    "            \"COUNT\": dataframe[variable].value_counts(),\n",
    "            \"RATIO\": dataframe[variable].value_counts() / len(dataframe)}), end=\"\\n\\n\\n\")\n",
    "    else:\n",
    "        temp = dataframe[dataframe[target].isnull() == False]\n",
    "        print(pd.DataFrame({\n",
    "            \"COUNT\":dataframe[variable].value_counts(),\n",
    "            \"RATIO\":dataframe[variable].value_counts() / len(dataframe),\n",
    "            \"TARGET_COUNT\":dataframe.groupby(variable)[target].count(),\n",
    "            \"TARGET_MEAN\":temp.groupby(variable)[target].mean(),\n",
    "            \"TARGET_MEDIAN\":temp.groupby(variable)[target].median(),\n",
    "            \"TARGET_STD\":temp.groupby(variable)[target].std()}), end=\"\\n\\n\\n\")\n",
    "\n",
    "# Numerical Variables\n",
    "def corr_plot(data, remove=[\"Id\"], corr_coef = \"pearson\", figsize=(20, 20)):\n",
    "    if len(remove) > 0:\n",
    "        num_cols2 = [x for x in data.columns if (x not in remove)]\n",
    "\n",
    "    sns.set(font_scale=1.1)\n",
    "    c = data[num_cols2].corr(method = corr_coef)\n",
    "    mask = np.triu(c.corr(method = corr_coef))\n",
    "    plt.figure(figsize=figsize)\n",
    "    sns.heatmap(c,\n",
    "                annot=True,\n",
    "                fmt='.1f',\n",
    "                cmap='coolwarm',\n",
    "                square=True,\n",
    "                mask=mask,\n",
    "                linewidths=1,\n",
    "                cbar=False)\n",
    "    plt.show()\n",
    "\n",
    "# Plot numerical variables\n",
    "def num_plot(data, num_cols, remove=[\"Id\"], hist_bins=10, figsize=(20, 4)):\n",
    "\n",
    "    if len(remove) > 0:\n",
    "        num_cols2 = [x for x in num_cols if (x not in remove)]\n",
    "\n",
    "    for i in num_cols2:\n",
    "        fig, axes = plt.subplots(1, 3, figsize=figsize)\n",
    "        data.hist(str(i), bins=hist_bins, ax=axes[0])\n",
    "        data.boxplot(str(i), ax=axes[1], vert=False);\n",
    "        try:\n",
    "            sns.kdeplot(np.array(data[str(i)]))\n",
    "        except:\n",
    "            ValueError\n",
    "\n",
    "        axes[1].set_yticklabels([])\n",
    "        axes[1].set_yticks([])\n",
    "        axes[0].set_title(i + \" | Histogram\")\n",
    "        axes[1].set_title(i + \" | Boxplot\")\n",
    "        axes[2].set_title(i + \" | Density\")\n",
    "        plt.show()\n",
    "\n",
    "# Get high correlated variables\n",
    "def high_correlation(data, remove=['SK_ID_CURR', 'SK_ID_BUREAU'], corr_coef=\"pearson\", corr_value = 0.7):\n",
    "    if len(remove) > 0:\n",
    "        cols = [x for x in data.columns if (x not in remove)]\n",
    "        c = data[cols].corr(method=corr_coef)\n",
    "    else:\n",
    "        c = data.corr(method=corr_coef)\n",
    "\n",
    "    for i in c.columns:\n",
    "        cr = c.loc[i].loc[(c.loc[i] >= corr_value) | (c.loc[i] <= -corr_value)].drop(i)\n",
    "        if len(cr) > 0:\n",
    "            print(i)\n",
    "            print(\"-------------------------------\")\n",
    "            print(cr.sort_values(ascending=False))\n",
    "            print(\"\\n\")\n",
    "\n",
    "# Missing Value\n",
    "def missing_values(data, plot=False):\n",
    "    mst = pd.DataFrame(\n",
    "        {\"Num_Missing\": data.isnull().sum(), \"Missing_Ratio\": data.isnull().sum() / data.shape[0]}).sort_values(\n",
    "        \"Num_Missing\", ascending=False)\n",
    "    mst[\"DataTypes\"] = data[mst.index].dtypes.values\n",
    "    mst = mst[mst.Num_Missing > 0].reset_index().rename({\"index\": \"Feature\"}, axis=1)\n",
    "\n",
    "    print(\"Number of Variables include Missing Values:\", mst.shape[0], \"\\n\")\n",
    "\n",
    "    if mst[mst.Missing_Ratio >= 1.0].shape[0] > 0:\n",
    "        print(\"Full Missing Variables:\", mst[mst.Missing_Ratio >= 1.0].Feature.tolist())\n",
    "        data.drop(mst[mst.Missing_Ratio >= 1.0].Feature.tolist(), axis=1, inplace=True)\n",
    "\n",
    "        print(\"Full missing variables are deleted!\", \"\\n\")\n",
    "\n",
    "    if plot:\n",
    "        plt.figure(figsize=(25, 8))\n",
    "        p = sns.barplot(mst.Feature, mst.Missing_Ratio)\n",
    "        for rotate in p.get_xticklabels():\n",
    "            rotate.set_rotation(90)\n",
    "        plt.show()\n",
    "\n",
    "    print(mst, \"\\n\")\n",
    "    \n",
    "    \n",
    "# Quantile functions for aggregations\n",
    "def quantile_funcs(percentiles = [0.75, 0.9, 0.99]):\n",
    "    return [(p, lambda x: x.quantile(p)) for p in percentiles]\n",
    "\n",
    "# Rare Encoder\n",
    "def rare_encoder(data, col, rare_perc):\n",
    "    temp = data[col].value_counts() / len(data) < rare_perc\n",
    "    data[col] = np.where(~data[col].isin(temp[temp < rare_perc].index), \"Rare\", data[col])"
   ]
  },
  {
   "cell_type": "markdown",
   "metadata": {
    "id": "bAGmOurinKEf"
   },
   "source": [
    "##  Importation de données"
   ]
  },
  {
   "cell_type": "code",
   "execution_count": 8,
   "metadata": {
    "id": "_koLiWktnKEi"
   },
   "outputs": [],
   "source": [
    "path_data = '~/Data/'"
   ]
  },
  {
   "cell_type": "code",
   "execution_count": 9,
   "metadata": {
    "id": "TfcGymp5nKEl"
   },
   "outputs": [],
   "source": [
    "application_train = pd.read_csv(path_data+\"/application_train.csv\")\n",
    "application_test = pd.read_csv(path_data+\"/application_test.csv\")\n",
    "bureau = pd.read_csv(path_data+\"/bureau.csv\")"
   ]
  },
  {
   "cell_type": "code",
   "execution_count": 10,
   "metadata": {},
   "outputs": [
    {
     "name": "stdout",
     "output_type": "stream",
     "text": [
      "Memory usage of dataframe is 286.23 MB\n",
      "Memory usage after optimization is: 59.54 MB\n",
      "Decreased by 79.2%\n",
      "Memory usage of dataframe is 45.00 MB\n",
      "Memory usage after optimization is: 9.40 MB\n",
      "Decreased by 79.1%\n",
      "Memory usage of dataframe is 222.62 MB\n",
      "Memory usage after optimization is: 78.57 MB\n",
      "Decreased by 64.7%\n"
     ]
    }
   ],
   "source": [
    "application_train = reduce_mem_usage(application_train)\n",
    "application_test = reduce_mem_usage(application_test)\n",
    "bureau = reduce_mem_usage(bureau)"
   ]
  },
  {
   "cell_type": "code",
   "execution_count": 11,
   "metadata": {},
   "outputs": [],
   "source": [
    "bureau_balance = pd.read_csv(path_data+\"/bureau_balance.csv\")\n",
    "credit_card_balance = pd.read_csv(path_data+\"/credit_card_balance.csv\")"
   ]
  },
  {
   "cell_type": "code",
   "execution_count": 13,
   "metadata": {},
   "outputs": [
    {
     "name": "stdout",
     "output_type": "stream",
     "text": [
      "Memory usage of dataframe is 624.85 MB\n",
      "Memory usage after optimization is: 156.21 MB\n",
      "Decreased by 75.0%\n",
      "Memory usage of dataframe is 673.88 MB\n",
      "Memory usage after optimization is: 263.69 MB\n",
      "Decreased by 60.9%\n"
     ]
    }
   ],
   "source": [
    "bureau_balance = reduce_mem_usage(bureau_balance)\n",
    "credit_card_balance = reduce_mem_usage(credit_card_balance)"
   ]
  },
  {
   "cell_type": "code",
   "execution_count": 14,
   "metadata": {},
   "outputs": [],
   "source": [
    "installments_payments = pd.read_csv(path_data+\"/installments_payments.csv\")\n",
    "previous_application = pd.read_csv(path_data+\"/previous_application.csv\")\n",
    "POS_CASH_balance = pd.read_csv(path_data+\"/POS_CASH_balance.csv\")"
   ]
  },
  {
   "cell_type": "code",
   "execution_count": 15,
   "metadata": {},
   "outputs": [
    {
     "name": "stdout",
     "output_type": "stream",
     "text": [
      "Memory usage of dataframe is 830.41 MB\n",
      "Memory usage after optimization is: 311.40 MB\n",
      "Decreased by 62.5%\n",
      "Memory usage of dataframe is 471.48 MB\n",
      "Memory usage after optimization is: 130.62 MB\n",
      "Decreased by 72.3%\n",
      "Memory usage of dataframe is 610.43 MB\n",
      "Memory usage after optimization is: 171.69 MB\n",
      "Decreased by 71.9%\n"
     ]
    }
   ],
   "source": [
    "installments_payments = reduce_mem_usage(installments_payments)\n",
    "previous_application = reduce_mem_usage(previous_application)\n",
    "POS_CASH_balance = reduce_mem_usage(POS_CASH_balance)"
   ]
  },
  {
   "cell_type": "code",
   "execution_count": 17,
   "metadata": {},
   "outputs": [
    {
     "name": "stdout",
     "output_type": "stream",
     "text": [
      "Dimension\n",
      "........................................................................\n",
      "application_train -  rows: 307511  columns: 122\n",
      "application_test -  rows: 48744  columns: 121\n",
      "bureau -  rows: 1716428  columns: 17\n",
      "bureau_balance -  rows: 27299925  columns: 3\n",
      "credit_card_balance -  rows: 3840312  columns: 23\n",
      "installments_payments -  rows: 13605401  columns: 8\n",
      "previous_application -  rows: 1670214  columns: 37\n",
      "POS_CASH_balance -  rows: 10001358  columns: 8\n"
     ]
    }
   ],
   "source": [
    "print(\"Dimension\")\n",
    "print('........................................................................')\n",
    "print(\"application_train -  rows:\",application_train.shape[0],\" columns:\", application_train.shape[1])\n",
    "print(\"application_test -  rows:\",application_test.shape[0],\" columns:\", application_test.shape[1])\n",
    "print(\"bureau -  rows:\",bureau.shape[0],\" columns:\", bureau.shape[1])\n",
    "print(\"bureau_balance -  rows:\",bureau_balance.shape[0],\" columns:\", bureau_balance.shape[1])\n",
    "print(\"credit_card_balance -  rows:\",credit_card_balance.shape[0],\" columns:\", credit_card_balance.shape[1])\n",
    "print(\"installments_payments -  rows:\",installments_payments.shape[0],\" columns:\", installments_payments.shape[1])\n",
    "print(\"previous_application -  rows:\",previous_application.shape[0],\" columns:\", previous_application.shape[1])\n",
    "print(\"POS_CASH_balance -  rows:\",POS_CASH_balance.shape[0],\" columns:\", POS_CASH_balance.shape[1])"
   ]
  },
  {
   "cell_type": "code",
   "execution_count": 18,
   "metadata": {
    "colab": {
     "base_uri": "https://localhost:8080/"
    },
    "id": "AO_sRYKqnKEp",
    "outputId": "c7833e73-bd33-45ef-e647-3d2fb8a92988"
   },
   "outputs": [
    {
     "data": {
      "text/plain": [
       "479"
      ]
     },
     "execution_count": 18,
     "metadata": {},
     "output_type": "execute_result"
    }
   ],
   "source": [
    "gc.enable()\n",
    "del application_train,bureau_balance,installments_payments\n",
    "gc.collect()"
   ]
  },
  {
   "cell_type": "code",
   "execution_count": 19,
   "metadata": {
    "id": "RWJdXqTKnKEr"
   },
   "outputs": [],
   "source": [
    "gc.enable()"
   ]
  },
  {
   "cell_type": "markdown",
   "metadata": {
    "id": "5zxJjcN-nKEt"
   },
   "source": [
    "### Application train "
   ]
  },
  {
   "cell_type": "code",
   "execution_count": 20,
   "metadata": {
    "id": "m36r5LGFnKEv"
   },
   "outputs": [
    {
     "name": "stdout",
     "output_type": "stream",
     "text": [
      "Memory usage of dataframe is 286.23 MB\n",
      "Memory usage after optimization is: 59.54 MB\n",
      "Decreased by 79.2%\n"
     ]
    }
   ],
   "source": [
    "application_train = pd.read_csv(path_data+\"/application_train.csv\")\n",
    "application_train = reduce_mem_usage(application_train)"
   ]
  },
  {
   "cell_type": "code",
   "execution_count": 21,
   "metadata": {
    "id": "4dKLMo3xnKEx"
   },
   "outputs": [],
   "source": [
    "building_normal_info_list = ['APARTMENTS_AVG','BASEMENTAREA_AVG','YEARS_BEGINEXPLUATATION_AVG','YEARS_BUILD_AVG',\n",
    "'COMMONAREA_AVG','ELEVATORS_AVG','ENTRANCES_AVG','FLOORSMAX_AVG','FLOORSMIN_AVG','LANDAREA_AVG','LIVINGAPARTMENTS_AVG',\n",
    "'LIVINGAREA_AVG','NONLIVINGAPARTMENTS_AVG','NONLIVINGAREA_AVG','APARTMENTS_MODE','BASEMENTAREA_MODE',\n",
    "'YEARS_BEGINEXPLUATATION_MODE','YEARS_BUILD_MODE','COMMONAREA_MODE','ELEVATORS_MODE',\n",
    "'ENTRANCES_MODE','FLOORSMAX_MODE','FLOORSMIN_MODE','LANDAREA_MODE',\n",
    "'LIVINGAPARTMENTS_MODE','LIVINGAREA_MODE','NONLIVINGAPARTMENTS_MODE','NONLIVINGAREA_MODE','APARTMENTS_MEDI',\n",
    "'BASEMENTAREA_MEDI','YEARS_BEGINEXPLUATATION_MEDI','YEARS_BUILD_MEDI','COMMONAREA_MEDI','ELEVATORS_MEDI',\n",
    "'ENTRANCES_MEDI','FLOORSMAX_MEDI','FLOORSMIN_MEDI','LANDAREA_MEDI','LIVINGAPARTMENTS_MEDI',\n",
    "'LIVINGAREA_MEDI','NONLIVINGAPARTMENTS_MEDI','NONLIVINGAREA_MEDI','FONDKAPREMONT_MODE',\n",
    "'HOUSETYPE_MODE','WALLSMATERIAL_MODE','EMERGENCYSTATE_MODE' ]"
   ]
  },
  {
   "cell_type": "code",
   "execution_count": 22,
   "metadata": {
    "id": "YL8dHo6BnKE2"
   },
   "outputs": [],
   "source": [
    "application_train.drop(building_normal_info_list,axis=1,inplace=True)"
   ]
  },
  {
   "cell_type": "code",
   "execution_count": null,
   "metadata": {
    "id": "xDueSjVfnKE3"
   },
   "outputs": [],
   "source": []
  },
  {
   "cell_type": "code",
   "execution_count": 23,
   "metadata": {
    "id": "AYAc59PZnKE4"
   },
   "outputs": [],
   "source": [
    "client_doc = ['FLAG_DOCUMENT_2','FLAG_DOCUMENT_4','FLAG_DOCUMENT_5','FLAG_DOCUMENT_6',\n",
    "'FLAG_DOCUMENT_7','FLAG_DOCUMENT_8','FLAG_DOCUMENT_9','FLAG_DOCUMENT_10','FLAG_DOCUMENT_11','FLAG_DOCUMENT_12',\n",
    "'FLAG_DOCUMENT_13','FLAG_DOCUMENT_14','FLAG_DOCUMENT_15','FLAG_DOCUMENT_16','FLAG_DOCUMENT_17','FLAG_DOCUMENT_18',\n",
    "'FLAG_DOCUMENT_19','FLAG_DOCUMENT_20','FLAG_DOCUMENT_21']"
   ]
  },
  {
   "cell_type": "code",
   "execution_count": null,
   "metadata": {
    "id": "uYjIQsoUnKE5"
   },
   "outputs": [],
   "source": []
  },
  {
   "cell_type": "code",
   "execution_count": 24,
   "metadata": {
    "id": "b8S_OIEwnKE6"
   },
   "outputs": [],
   "source": [
    "application_train.drop(client_doc,axis=1,inplace=True)"
   ]
  },
  {
   "cell_type": "code",
   "execution_count": 25,
   "metadata": {
    "id": "LJb9xd_qnKE7"
   },
   "outputs": [],
   "source": [
    "AMT_REQ_CREDIT_BUREAU_list = ['AMT_REQ_CREDIT_BUREAU_HOUR','AMT_REQ_CREDIT_BUREAU_DAY','AMT_REQ_CREDIT_BUREAU_WEEK',\n",
    "'AMT_REQ_CREDIT_BUREAU_MON','AMT_REQ_CREDIT_BUREAU_QRT']"
   ]
  },
  {
   "cell_type": "code",
   "execution_count": 26,
   "metadata": {
    "id": "-G79790bnKE8"
   },
   "outputs": [],
   "source": [
    "application_train.drop(AMT_REQ_CREDIT_BUREAU_list,axis=1,inplace=True)"
   ]
  },
  {
   "cell_type": "code",
   "execution_count": 27,
   "metadata": {
    "id": "QuLAx2GvnKE9"
   },
   "outputs": [],
   "source": [
    "social_surroundings_list = ['OBS_30_CNT_SOCIAL_CIRCLE','OBS_60_CNT_SOCIAL_CIRCLE',\n",
    "                            'DEF_60_CNT_SOCIAL_CIRCLE','DAYS_LAST_PHONE_CHANGE']"
   ]
  },
  {
   "cell_type": "code",
   "execution_count": 28,
   "metadata": {
    "id": "KhJ9rJKOnKE_"
   },
   "outputs": [],
   "source": [
    "application_train.drop(social_surroundings_list,axis=1,inplace=True)"
   ]
  },
  {
   "cell_type": "code",
   "execution_count": 29,
   "metadata": {
    "colab": {
     "base_uri": "https://localhost:8080/"
    },
    "id": "sQSVR7nQnKE_",
    "outputId": "6a7ddb92-2f8d-45c3-c012-3b1a23ba53a6"
   },
   "outputs": [
    {
     "data": {
      "text/plain": [
       "(307511, 48)"
      ]
     },
     "execution_count": 29,
     "metadata": {},
     "output_type": "execute_result"
    }
   ],
   "source": [
    "application_train.shape"
   ]
  },
  {
   "cell_type": "code",
   "execution_count": 30,
   "metadata": {
    "id": "3ama7tt_nKFC"
   },
   "outputs": [],
   "source": [
    "external_score_list = ['EXT_SOURCE_1','EXT_SOURCE_2','EXT_SOURCE_3'] #=> !! data leakage !!! "
   ]
  },
  {
   "cell_type": "code",
   "execution_count": 31,
   "metadata": {
    "id": "eXf8XDgXnKFE"
   },
   "outputs": [],
   "source": [
    "application_train.drop(external_score_list,axis=1,inplace=True)"
   ]
  },
  {
   "cell_type": "code",
   "execution_count": 32,
   "metadata": {
    "colab": {
     "base_uri": "https://localhost:8080/"
    },
    "id": "LTOw5XyJnKFF",
    "outputId": "4b6cd7de-458b-440a-f6f4-958f3311b38f"
   },
   "outputs": [
    {
     "data": {
      "text/plain": [
       "(307511, 45)"
      ]
     },
     "execution_count": 32,
     "metadata": {},
     "output_type": "execute_result"
    }
   ],
   "source": [
    "application_train.shape"
   ]
  },
  {
   "cell_type": "code",
   "execution_count": 33,
   "metadata": {
    "id": "vkKOh7ojnKFG"
   },
   "outputs": [],
   "source": [
    "Flag_list = ['REG_REGION_NOT_LIVE_REGION','REG_REGION_NOT_WORK_REGION','LIVE_REGION_NOT_WORK_REGION',\n",
    "'REG_CITY_NOT_LIVE_CITY','LIVE_CITY_NOT_WORK_CITY']"
   ]
  },
  {
   "cell_type": "code",
   "execution_count": 34,
   "metadata": {
    "id": "oel7KkNqnKFG"
   },
   "outputs": [],
   "source": [
    "application_train.drop(Flag_list,axis=1,inplace=True)"
   ]
  },
  {
   "cell_type": "code",
   "execution_count": 35,
   "metadata": {
    "id": "Dl-rCel8nKFI"
   },
   "outputs": [],
   "source": [
    "flag_phone_mail_list = ['FLAG_MOBIL','FLAG_EMP_PHONE','FLAG_WORK_PHONE','FLAG_CONT_MOBILE',\n",
    "'FLAG_PHONE','FLAG_EMAIL']"
   ]
  },
  {
   "cell_type": "code",
   "execution_count": 36,
   "metadata": {
    "id": "O7a1ueXlnKFI"
   },
   "outputs": [],
   "source": [
    "application_train.drop(flag_phone_mail_list,axis=1,inplace=True)"
   ]
  },
  {
   "cell_type": "code",
   "execution_count": 37,
   "metadata": {
    "colab": {
     "base_uri": "https://localhost:8080/"
    },
    "id": "4U9-xn5GnKFJ",
    "outputId": "489fd224-0070-412d-eb44-2a614b1600d9"
   },
   "outputs": [
    {
     "data": {
      "text/plain": [
       "(307511, 34)"
      ]
     },
     "execution_count": 37,
     "metadata": {},
     "output_type": "execute_result"
    }
   ],
   "source": [
    "application_train.shape"
   ]
  },
  {
   "cell_type": "code",
   "execution_count": 38,
   "metadata": {
    "id": "KFvfsYhDnKFK"
   },
   "outputs": [],
   "source": [
    "AMT_list = ['AMT_ANNUITY','AMT_GOODS_PRICE']"
   ]
  },
  {
   "cell_type": "code",
   "execution_count": 39,
   "metadata": {
    "id": "Uvyoh7qlnKFL"
   },
   "outputs": [],
   "source": [
    "application_train.drop(AMT_list,axis=1,inplace=True)"
   ]
  },
  {
   "cell_type": "code",
   "execution_count": 40,
   "metadata": {
    "id": "C-Ok0RqlnKFM"
   },
   "outputs": [],
   "source": [
    "days_list = ['DAYS_REGISTRATION','DAYS_ID_PUBLISH' ]"
   ]
  },
  {
   "cell_type": "code",
   "execution_count": 41,
   "metadata": {
    "id": "2UxhNttInKFO"
   },
   "outputs": [],
   "source": [
    "application_train.drop(days_list,axis=1,inplace=True)"
   ]
  },
  {
   "cell_type": "code",
   "execution_count": 42,
   "metadata": {
    "colab": {
     "base_uri": "https://localhost:8080/"
    },
    "id": "2gq3pro_nKFR",
    "outputId": "deeff935-e097-417d-8710-0cda461e9270"
   },
   "outputs": [
    {
     "data": {
      "text/plain": [
       "(307511, 30)"
      ]
     },
     "execution_count": 42,
     "metadata": {},
     "output_type": "execute_result"
    }
   ],
   "source": [
    "application_train.shape"
   ]
  },
  {
   "cell_type": "code",
   "execution_count": 43,
   "metadata": {
    "id": "tK0u4zelnKFS"
   },
   "outputs": [],
   "source": [
    "#Family status remapped\n",
    "dic = {'Single / not married':'not_married', 'Married':'married', 'Civil marriage':'married', 'Widow':'other',\n",
    "       'Separated':'other', 'Unknown':'other'}\n",
    "application_train=application_train.replace({\"NAME_FAMILY_STATUS\": dic})"
   ]
  },
  {
   "cell_type": "code",
   "execution_count": 44,
   "metadata": {
    "colab": {
     "base_uri": "https://localhost:8080/"
    },
    "id": "jaLJUjO-nKFT",
    "outputId": "d909289d-8312-4aca-84e9-8c6c60e2ea5f"
   },
   "outputs": [
    {
     "data": {
      "text/plain": [
       "['not_married', 'married', 'other']\n",
       "Categories (3, object): ['married', 'not_married', 'other']"
      ]
     },
     "execution_count": 44,
     "metadata": {},
     "output_type": "execute_result"
    }
   ],
   "source": [
    "application_train['NAME_FAMILY_STATUS'].unique()"
   ]
  },
  {
   "cell_type": "code",
   "execution_count": 45,
   "metadata": {
    "id": "GaozoSn8nKFU"
   },
   "outputs": [],
   "source": [
    "# NAME_INCOME_TYPE remapped\n",
    "dic = {'Working':'working', 'State servant':'working', 'Commercial associate':'working', 'Pensioner':'working',\n",
    "       'Unemployed':'not_working', 'Student':'not_working', 'Businessman':'working', 'Maternity leave':'not_working'}\n",
    "application_train=application_train.replace({\"NAME_INCOME_TYPE\": dic})"
   ]
  },
  {
   "cell_type": "code",
   "execution_count": 46,
   "metadata": {
    "colab": {
     "base_uri": "https://localhost:8080/"
    },
    "id": "JM6rqokHnKFV",
    "outputId": "4a2e8be4-7064-4e8d-ff80-ee9e53e96163"
   },
   "outputs": [
    {
     "data": {
      "text/plain": [
       "['working', 'not_working']\n",
       "Categories (2, object): ['not_working', 'working']"
      ]
     },
     "execution_count": 46,
     "metadata": {},
     "output_type": "execute_result"
    }
   ],
   "source": [
    "application_train['NAME_INCOME_TYPE'].unique()"
   ]
  },
  {
   "cell_type": "code",
   "execution_count": 47,
   "metadata": {
    "id": "_aCokubMnKFW"
   },
   "outputs": [],
   "source": [
    "# OCCUPATION_TYPE remapped\n",
    "dic = {'Laborers':'other', 'Core staff':'other', 'Accountants':'other', 'Managers':'other',\n",
    "       'Drivers':'other', 'Sales staff':'other', 'Cleaning staff':'other', 'Cooking staff':'other',\n",
    "       'Private service staff':'other', 'Medicine staff':'other', 'Security staff':'other',\n",
    "       'High skill tech staff':'other', 'Waiters/barmen staff':'other',\n",
    "       'Low-skill Laborers':'Low-skill Laborers', 'Realty agents':'other', 'Secretaries':'other', 'IT staff':'other',\n",
    "       'HR staff':'other'}\n",
    "application_train=application_train.replace({\"OCCUPATION_TYPE\": dic})"
   ]
  },
  {
   "cell_type": "code",
   "execution_count": 48,
   "metadata": {
    "colab": {
     "base_uri": "https://localhost:8080/"
    },
    "id": "Z7MHwjBmnKFX",
    "outputId": "c2544615-ca3e-42f2-e8b0-da8a7c790031"
   },
   "outputs": [
    {
     "data": {
      "text/plain": [
       "['other', NaN, 'Low-skill Laborers']\n",
       "Categories (2, object): ['other', 'Low-skill Laborers']"
      ]
     },
     "execution_count": 48,
     "metadata": {},
     "output_type": "execute_result"
    }
   ],
   "source": [
    "application_train['OCCUPATION_TYPE'].unique()"
   ]
  },
  {
   "cell_type": "code",
   "execution_count": 49,
   "metadata": {
    "id": "Svol4q4rnKFY"
   },
   "outputs": [],
   "source": [
    "# NAME_EDUCATION_TYPE remapped\n",
    "dic = {'Secondary / secondary special':'low_educ', 'Higher education':'high_educ',\n",
    "       'Incomplete higher':'low_educ', 'Lower secondary':'low_educ', 'Academic degree':'high_educ'}\n",
    "application_train=application_train.replace({\"NAME_EDUCATION_TYPE\": dic})"
   ]
  },
  {
   "cell_type": "code",
   "execution_count": 50,
   "metadata": {
    "colab": {
     "base_uri": "https://localhost:8080/"
    },
    "id": "EyArZfxBnKFZ",
    "outputId": "d1ce847d-1522-46a2-dfe9-cea0f2a8a215"
   },
   "outputs": [
    {
     "data": {
      "text/plain": [
       "['low_educ', 'high_educ']\n",
       "Categories (2, object): ['high_educ', 'low_educ']"
      ]
     },
     "execution_count": 50,
     "metadata": {},
     "output_type": "execute_result"
    }
   ],
   "source": [
    "application_train['NAME_EDUCATION_TYPE'].unique()"
   ]
  },
  {
   "cell_type": "code",
   "execution_count": null,
   "metadata": {
    "id": "f8olgucMnKFe"
   },
   "outputs": [],
   "source": []
  },
  {
   "cell_type": "code",
   "execution_count": 51,
   "metadata": {
    "id": "Bf3yv5EGnKFf"
   },
   "outputs": [],
   "source": [
    "#drop not important categ\n",
    "drop_categories_list = ['FLAG_OWN_CAR','FLAG_OWN_REALTY','ORGANIZATION_TYPE','NAME_HOUSING_TYPE']"
   ]
  },
  {
   "cell_type": "code",
   "execution_count": 52,
   "metadata": {
    "id": "PWzKics6nKFf"
   },
   "outputs": [],
   "source": [
    "application_train.drop(drop_categories_list,axis=1,inplace=True)"
   ]
  },
  {
   "cell_type": "code",
   "execution_count": 53,
   "metadata": {
    "colab": {
     "base_uri": "https://localhost:8080/"
    },
    "id": "UK_THm-snKFg",
    "outputId": "a015a33f-7958-4246-ac23-67e34e8a34f0"
   },
   "outputs": [
    {
     "data": {
      "text/plain": [
       "(307511, 26)"
      ]
     },
     "execution_count": 53,
     "metadata": {},
     "output_type": "execute_result"
    }
   ],
   "source": [
    "application_train.shape"
   ]
  },
  {
   "cell_type": "code",
   "execution_count": 54,
   "metadata": {
    "colab": {
     "base_uri": "https://localhost:8080/"
    },
    "id": "eUR4iNlInKFh",
    "outputId": "8bab7520-0b96-4981-f84b-a35c0513460b"
   },
   "outputs": [
    {
     "data": {
      "text/plain": [
       "473"
      ]
     },
     "execution_count": 54,
     "metadata": {},
     "output_type": "execute_result"
    }
   ],
   "source": [
    "gc.collect()"
   ]
  },
  {
   "cell_type": "code",
   "execution_count": 55,
   "metadata": {
    "id": "srUMhp-GnKFm"
   },
   "outputs": [],
   "source": [
    "df_final = application_train"
   ]
  },
  {
   "cell_type": "code",
   "execution_count": 56,
   "metadata": {
    "colab": {
     "base_uri": "https://localhost:8080/"
    },
    "id": "ciEEreucnKFn",
    "outputId": "9377a28c-557d-433d-a08b-10ef76d56f8a"
   },
   "outputs": [
    {
     "data": {
      "text/plain": [
       "0"
      ]
     },
     "execution_count": 56,
     "metadata": {},
     "output_type": "execute_result"
    }
   ],
   "source": [
    "gc.enable()\n",
    "del application_train\n",
    "gc.collect()"
   ]
  },
  {
   "cell_type": "code",
   "execution_count": 57,
   "metadata": {
    "colab": {
     "base_uri": "https://localhost:8080/"
    },
    "id": "74oeRBBAnKFo",
    "outputId": "377b6a1e-ce97-43d9-86d9-bc89118ee599"
   },
   "outputs": [
    {
     "data": {
      "text/plain": [
       "(307511, 26)"
      ]
     },
     "execution_count": 57,
     "metadata": {},
     "output_type": "execute_result"
    }
   ],
   "source": [
    "df_final.shape"
   ]
  },
  {
   "cell_type": "markdown",
   "metadata": {
    "id": "XkfIiG8AnKFp"
   },
   "source": [
    "## bureau_balance"
   ]
  },
  {
   "cell_type": "code",
   "execution_count": 65,
   "metadata": {
    "id": "ajNFCWNjnKFu"
   },
   "outputs": [],
   "source": [
    "bureau_balance = pd.read_csv(path_data+\"/bureau_balance.csv\")\n",
    "#bureau_balance = reduce_mem_usage(bureau_balance)"
   ]
  },
  {
   "cell_type": "code",
   "execution_count": 66,
   "metadata": {
    "colab": {
     "base_uri": "https://localhost:8080/",
     "height": 0
    },
    "id": "0-NWJI4jnKFv",
    "outputId": "2a18f9d8-9515-4aaf-cc9c-1c97416c5c47"
   },
   "outputs": [
    {
     "data": {
      "text/html": [
       "<div>\n",
       "<style scoped>\n",
       "    .dataframe tbody tr th:only-of-type {\n",
       "        vertical-align: middle;\n",
       "    }\n",
       "\n",
       "    .dataframe tbody tr th {\n",
       "        vertical-align: top;\n",
       "    }\n",
       "\n",
       "    .dataframe thead th {\n",
       "        text-align: right;\n",
       "    }\n",
       "</style>\n",
       "<table border=\"1\" class=\"dataframe\">\n",
       "  <thead>\n",
       "    <tr style=\"text-align: right;\">\n",
       "      <th></th>\n",
       "      <th>SK_ID_BUREAU</th>\n",
       "      <th>MONTHS_BALANCE</th>\n",
       "      <th>STATUS</th>\n",
       "    </tr>\n",
       "  </thead>\n",
       "  <tbody>\n",
       "    <tr>\n",
       "      <th>0</th>\n",
       "      <td>5715448</td>\n",
       "      <td>0</td>\n",
       "      <td>C</td>\n",
       "    </tr>\n",
       "    <tr>\n",
       "      <th>1</th>\n",
       "      <td>5715448</td>\n",
       "      <td>-1</td>\n",
       "      <td>C</td>\n",
       "    </tr>\n",
       "    <tr>\n",
       "      <th>2</th>\n",
       "      <td>5715448</td>\n",
       "      <td>-2</td>\n",
       "      <td>C</td>\n",
       "    </tr>\n",
       "  </tbody>\n",
       "</table>\n",
       "</div>"
      ],
      "text/plain": [
       "   SK_ID_BUREAU  MONTHS_BALANCE STATUS\n",
       "0       5715448               0      C\n",
       "1       5715448              -1      C\n",
       "2       5715448              -2      C"
      ]
     },
     "execution_count": 66,
     "metadata": {},
     "output_type": "execute_result"
    }
   ],
   "source": [
    "bureau_balance.head(3)"
   ]
  },
  {
   "cell_type": "code",
   "execution_count": null,
   "metadata": {
    "id": "ExWm8J04nKFy"
   },
   "outputs": [],
   "source": []
  },
  {
   "cell_type": "code",
   "execution_count": 67,
   "metadata": {
    "id": "M501rjRonKFz"
   },
   "outputs": [],
   "source": [
    " df_inter = bureau_balance[bureau_balance['STATUS']!='C']"
   ]
  },
  {
   "cell_type": "code",
   "execution_count": 68,
   "metadata": {
    "id": "PiaZdXCXnKFz"
   },
   "outputs": [],
   "source": [
    " df_inter = df_inter[df_inter['STATUS']!='X']"
   ]
  },
  {
   "cell_type": "code",
   "execution_count": 69,
   "metadata": {},
   "outputs": [],
   "source": [
    "df_inter['STATUS']=df_inter['STATUS'].astype(int)"
   ]
  },
  {
   "cell_type": "code",
   "execution_count": 70,
   "metadata": {
    "id": "Z1k3ATn1nKF0"
   },
   "outputs": [],
   "source": [
    "df_inter['STATUS']=df_inter['STATUS'].astype(int)"
   ]
  },
  {
   "cell_type": "code",
   "execution_count": 71,
   "metadata": {
    "id": "TTA0BJy-nKF2"
   },
   "outputs": [],
   "source": [
    "df_inter = df_inter[df_inter['MONTHS_BALANCE']>-25]"
   ]
  },
  {
   "cell_type": "code",
   "execution_count": 72,
   "metadata": {
    "id": "-qQXa5T8nKF8"
   },
   "outputs": [],
   "source": [
    "df_grouped = df_inter.groupby(['SK_ID_BUREAU'])['STATUS'].agg(lambda x:x.value_counts().index[0])"
   ]
  },
  {
   "cell_type": "code",
   "execution_count": 73,
   "metadata": {
    "id": "uLL-xeTQnKF9"
   },
   "outputs": [],
   "source": [
    "bureau_balanced_grouped = pd.DataFrame({'SK_ID_BUREAU':df_grouped.index,'status_most_freq':df_grouped.values})"
   ]
  },
  {
   "cell_type": "code",
   "execution_count": 74,
   "metadata": {
    "colab": {
     "base_uri": "https://localhost:8080/",
     "height": 0
    },
    "id": "__S7MDACnKF-",
    "outputId": "4fe8af87-d398-40da-c361-b17882c8d32e"
   },
   "outputs": [
    {
     "data": {
      "text/html": [
       "<div>\n",
       "<style scoped>\n",
       "    .dataframe tbody tr th:only-of-type {\n",
       "        vertical-align: middle;\n",
       "    }\n",
       "\n",
       "    .dataframe tbody tr th {\n",
       "        vertical-align: top;\n",
       "    }\n",
       "\n",
       "    .dataframe thead th {\n",
       "        text-align: right;\n",
       "    }\n",
       "</style>\n",
       "<table border=\"1\" class=\"dataframe\">\n",
       "  <thead>\n",
       "    <tr style=\"text-align: right;\">\n",
       "      <th></th>\n",
       "      <th>SK_ID_BUREAU</th>\n",
       "      <th>status_most_freq</th>\n",
       "    </tr>\n",
       "  </thead>\n",
       "  <tbody>\n",
       "    <tr>\n",
       "      <th>0</th>\n",
       "      <td>5001711</td>\n",
       "      <td>0</td>\n",
       "    </tr>\n",
       "    <tr>\n",
       "      <th>1</th>\n",
       "      <td>5001712</td>\n",
       "      <td>0</td>\n",
       "    </tr>\n",
       "    <tr>\n",
       "      <th>2</th>\n",
       "      <td>5001717</td>\n",
       "      <td>0</td>\n",
       "    </tr>\n",
       "    <tr>\n",
       "      <th>3</th>\n",
       "      <td>5001718</td>\n",
       "      <td>0</td>\n",
       "    </tr>\n",
       "    <tr>\n",
       "      <th>4</th>\n",
       "      <td>5001720</td>\n",
       "      <td>0</td>\n",
       "    </tr>\n",
       "    <tr>\n",
       "      <th>...</th>\n",
       "      <td>...</td>\n",
       "      <td>...</td>\n",
       "    </tr>\n",
       "    <tr>\n",
       "      <th>394422</th>\n",
       "      <td>6842877</td>\n",
       "      <td>0</td>\n",
       "    </tr>\n",
       "    <tr>\n",
       "      <th>394423</th>\n",
       "      <td>6842878</td>\n",
       "      <td>0</td>\n",
       "    </tr>\n",
       "    <tr>\n",
       "      <th>394424</th>\n",
       "      <td>6842881</td>\n",
       "      <td>0</td>\n",
       "    </tr>\n",
       "    <tr>\n",
       "      <th>394425</th>\n",
       "      <td>6842882</td>\n",
       "      <td>0</td>\n",
       "    </tr>\n",
       "    <tr>\n",
       "      <th>394426</th>\n",
       "      <td>6842885</td>\n",
       "      <td>5</td>\n",
       "    </tr>\n",
       "  </tbody>\n",
       "</table>\n",
       "<p>394427 rows × 2 columns</p>\n",
       "</div>"
      ],
      "text/plain": [
       "        SK_ID_BUREAU  status_most_freq\n",
       "0            5001711                 0\n",
       "1            5001712                 0\n",
       "2            5001717                 0\n",
       "3            5001718                 0\n",
       "4            5001720                 0\n",
       "...              ...               ...\n",
       "394422       6842877                 0\n",
       "394423       6842878                 0\n",
       "394424       6842881                 0\n",
       "394425       6842882                 0\n",
       "394426       6842885                 5\n",
       "\n",
       "[394427 rows x 2 columns]"
      ]
     },
     "execution_count": 74,
     "metadata": {},
     "output_type": "execute_result"
    }
   ],
   "source": [
    "bureau_balanced_grouped"
   ]
  },
  {
   "cell_type": "code",
   "execution_count": 75,
   "metadata": {
    "colab": {
     "base_uri": "https://localhost:8080/"
    },
    "id": "CQI8cgXrnKF-",
    "outputId": "bcd87a87-e9dc-43ce-906e-c7d0edc31a46"
   },
   "outputs": [
    {
     "data": {
      "text/plain": [
       "3962"
      ]
     },
     "execution_count": 75,
     "metadata": {},
     "output_type": "execute_result"
    }
   ],
   "source": [
    "gc.enable()\n",
    "del df_inter,bureau_balance,df_grouped\n",
    "gc.collect()"
   ]
  },
  {
   "cell_type": "markdown",
   "metadata": {
    "id": "KimYxDm6nKGB"
   },
   "source": [
    "##  Bureau"
   ]
  },
  {
   "cell_type": "code",
   "execution_count": 76,
   "metadata": {
    "id": "ifL1nEDdnKGC"
   },
   "outputs": [
    {
     "name": "stdout",
     "output_type": "stream",
     "text": [
      "Memory usage of dataframe is 222.62 MB\n",
      "Memory usage after optimization is: 78.57 MB\n",
      "Decreased by 64.7%\n"
     ]
    }
   ],
   "source": [
    "bureau = pd.read_csv(path_data+\"/bureau.csv\")\n",
    "bureau = reduce_mem_usage(bureau)"
   ]
  },
  {
   "cell_type": "code",
   "execution_count": 77,
   "metadata": {
    "colab": {
     "base_uri": "https://localhost:8080/",
     "height": 0
    },
    "id": "n-ImYUfpnKGD",
    "outputId": "454158d8-7a6d-4e35-b103-e388e06bffbc"
   },
   "outputs": [
    {
     "data": {
      "text/html": [
       "<div>\n",
       "<style scoped>\n",
       "    .dataframe tbody tr th:only-of-type {\n",
       "        vertical-align: middle;\n",
       "    }\n",
       "\n",
       "    .dataframe tbody tr th {\n",
       "        vertical-align: top;\n",
       "    }\n",
       "\n",
       "    .dataframe thead th {\n",
       "        text-align: right;\n",
       "    }\n",
       "</style>\n",
       "<table border=\"1\" class=\"dataframe\">\n",
       "  <thead>\n",
       "    <tr style=\"text-align: right;\">\n",
       "      <th></th>\n",
       "      <th>SK_ID_CURR</th>\n",
       "      <th>SK_ID_BUREAU</th>\n",
       "      <th>CREDIT_ACTIVE</th>\n",
       "      <th>CREDIT_CURRENCY</th>\n",
       "      <th>DAYS_CREDIT</th>\n",
       "      <th>CREDIT_DAY_OVERDUE</th>\n",
       "      <th>DAYS_CREDIT_ENDDATE</th>\n",
       "      <th>DAYS_ENDDATE_FACT</th>\n",
       "      <th>AMT_CREDIT_MAX_OVERDUE</th>\n",
       "      <th>CNT_CREDIT_PROLONG</th>\n",
       "      <th>AMT_CREDIT_SUM</th>\n",
       "      <th>AMT_CREDIT_SUM_DEBT</th>\n",
       "      <th>AMT_CREDIT_SUM_LIMIT</th>\n",
       "      <th>AMT_CREDIT_SUM_OVERDUE</th>\n",
       "      <th>CREDIT_TYPE</th>\n",
       "      <th>DAYS_CREDIT_UPDATE</th>\n",
       "      <th>AMT_ANNUITY</th>\n",
       "    </tr>\n",
       "  </thead>\n",
       "  <tbody>\n",
       "    <tr>\n",
       "      <th>0</th>\n",
       "      <td>215354</td>\n",
       "      <td>5714462</td>\n",
       "      <td>Closed</td>\n",
       "      <td>currency 1</td>\n",
       "      <td>-497</td>\n",
       "      <td>0</td>\n",
       "      <td>-153.00</td>\n",
       "      <td>-153.00</td>\n",
       "      <td>NaN</td>\n",
       "      <td>0</td>\n",
       "      <td>91,323.00</td>\n",
       "      <td>0.00</td>\n",
       "      <td>NaN</td>\n",
       "      <td>0.00</td>\n",
       "      <td>Consumer credit</td>\n",
       "      <td>-131</td>\n",
       "      <td>NaN</td>\n",
       "    </tr>\n",
       "    <tr>\n",
       "      <th>1</th>\n",
       "      <td>215354</td>\n",
       "      <td>5714463</td>\n",
       "      <td>Active</td>\n",
       "      <td>currency 1</td>\n",
       "      <td>-208</td>\n",
       "      <td>0</td>\n",
       "      <td>1,075.00</td>\n",
       "      <td>NaN</td>\n",
       "      <td>NaN</td>\n",
       "      <td>0</td>\n",
       "      <td>225,000.00</td>\n",
       "      <td>171,342.00</td>\n",
       "      <td>NaN</td>\n",
       "      <td>0.00</td>\n",
       "      <td>Credit card</td>\n",
       "      <td>-20</td>\n",
       "      <td>NaN</td>\n",
       "    </tr>\n",
       "    <tr>\n",
       "      <th>2</th>\n",
       "      <td>215354</td>\n",
       "      <td>5714464</td>\n",
       "      <td>Active</td>\n",
       "      <td>currency 1</td>\n",
       "      <td>-203</td>\n",
       "      <td>0</td>\n",
       "      <td>528.00</td>\n",
       "      <td>NaN</td>\n",
       "      <td>NaN</td>\n",
       "      <td>0</td>\n",
       "      <td>464,323.50</td>\n",
       "      <td>NaN</td>\n",
       "      <td>NaN</td>\n",
       "      <td>0.00</td>\n",
       "      <td>Consumer credit</td>\n",
       "      <td>-16</td>\n",
       "      <td>NaN</td>\n",
       "    </tr>\n",
       "    <tr>\n",
       "      <th>3</th>\n",
       "      <td>215354</td>\n",
       "      <td>5714465</td>\n",
       "      <td>Active</td>\n",
       "      <td>currency 1</td>\n",
       "      <td>-203</td>\n",
       "      <td>0</td>\n",
       "      <td>NaN</td>\n",
       "      <td>NaN</td>\n",
       "      <td>NaN</td>\n",
       "      <td>0</td>\n",
       "      <td>90,000.00</td>\n",
       "      <td>NaN</td>\n",
       "      <td>NaN</td>\n",
       "      <td>0.00</td>\n",
       "      <td>Credit card</td>\n",
       "      <td>-16</td>\n",
       "      <td>NaN</td>\n",
       "    </tr>\n",
       "    <tr>\n",
       "      <th>4</th>\n",
       "      <td>215354</td>\n",
       "      <td>5714466</td>\n",
       "      <td>Active</td>\n",
       "      <td>currency 1</td>\n",
       "      <td>-629</td>\n",
       "      <td>0</td>\n",
       "      <td>1,197.00</td>\n",
       "      <td>NaN</td>\n",
       "      <td>77,674.50</td>\n",
       "      <td>0</td>\n",
       "      <td>2,700,000.00</td>\n",
       "      <td>NaN</td>\n",
       "      <td>NaN</td>\n",
       "      <td>0.00</td>\n",
       "      <td>Consumer credit</td>\n",
       "      <td>-21</td>\n",
       "      <td>NaN</td>\n",
       "    </tr>\n",
       "  </tbody>\n",
       "</table>\n",
       "</div>"
      ],
      "text/plain": [
       "   SK_ID_CURR  SK_ID_BUREAU CREDIT_ACTIVE CREDIT_CURRENCY  DAYS_CREDIT  \\\n",
       "0      215354       5714462        Closed      currency 1         -497   \n",
       "1      215354       5714463        Active      currency 1         -208   \n",
       "2      215354       5714464        Active      currency 1         -203   \n",
       "3      215354       5714465        Active      currency 1         -203   \n",
       "4      215354       5714466        Active      currency 1         -629   \n",
       "\n",
       "   CREDIT_DAY_OVERDUE  DAYS_CREDIT_ENDDATE  DAYS_ENDDATE_FACT  \\\n",
       "0                   0              -153.00            -153.00   \n",
       "1                   0             1,075.00                NaN   \n",
       "2                   0               528.00                NaN   \n",
       "3                   0                  NaN                NaN   \n",
       "4                   0             1,197.00                NaN   \n",
       "\n",
       "   AMT_CREDIT_MAX_OVERDUE  CNT_CREDIT_PROLONG  AMT_CREDIT_SUM  \\\n",
       "0                     NaN                   0       91,323.00   \n",
       "1                     NaN                   0      225,000.00   \n",
       "2                     NaN                   0      464,323.50   \n",
       "3                     NaN                   0       90,000.00   \n",
       "4               77,674.50                   0    2,700,000.00   \n",
       "\n",
       "   AMT_CREDIT_SUM_DEBT  AMT_CREDIT_SUM_LIMIT  AMT_CREDIT_SUM_OVERDUE  \\\n",
       "0                 0.00                   NaN                    0.00   \n",
       "1           171,342.00                   NaN                    0.00   \n",
       "2                  NaN                   NaN                    0.00   \n",
       "3                  NaN                   NaN                    0.00   \n",
       "4                  NaN                   NaN                    0.00   \n",
       "\n",
       "       CREDIT_TYPE  DAYS_CREDIT_UPDATE  AMT_ANNUITY  \n",
       "0  Consumer credit                -131          NaN  \n",
       "1      Credit card                 -20          NaN  \n",
       "2  Consumer credit                 -16          NaN  \n",
       "3      Credit card                 -16          NaN  \n",
       "4  Consumer credit                 -21          NaN  "
      ]
     },
     "execution_count": 77,
     "metadata": {},
     "output_type": "execute_result"
    }
   ],
   "source": [
    "bureau.head()"
   ]
  },
  {
   "cell_type": "code",
   "execution_count": 78,
   "metadata": {
    "colab": {
     "base_uri": "https://localhost:8080/"
    },
    "id": "tlmnsYF_nKGE",
    "outputId": "9eb8a350-a7a8-4350-a84b-02b6c788943c"
   },
   "outputs": [
    {
     "data": {
      "text/plain": [
       "(1716428, 17)"
      ]
     },
     "execution_count": 78,
     "metadata": {},
     "output_type": "execute_result"
    }
   ],
   "source": [
    "bureau.shape"
   ]
  },
  {
   "cell_type": "code",
   "execution_count": 79,
   "metadata": {
    "id": "sXiAMvU8nKGF"
   },
   "outputs": [],
   "source": [
    "bureau_list = ['CREDIT_CURRENCY','CREDIT_DAY_OVERDUE',\n",
    "'DAYS_CREDIT_ENDDATE','DAYS_ENDDATE_FACT','AMT_CREDIT_MAX_OVERDUE','CNT_CREDIT_PROLONG','AMT_CREDIT_SUM_DEBT',\n",
    "'AMT_CREDIT_SUM_LIMIT','AMT_CREDIT_SUM_OVERDUE','DAYS_CREDIT_UPDATE','AMT_ANNUITY','CREDIT_TYPE']"
   ]
  },
  {
   "cell_type": "code",
   "execution_count": 80,
   "metadata": {
    "id": "R1NV3bi6nKGG"
   },
   "outputs": [],
   "source": [
    "bureau.drop(bureau_list,axis=1,inplace=True)"
   ]
  },
  {
   "cell_type": "code",
   "execution_count": 81,
   "metadata": {
    "id": "yokc7zaEnKGG"
   },
   "outputs": [],
   "source": [
    "bureau = bureau.merge(bureau_balanced_grouped, on = 'SK_ID_BUREAU', how = 'left')"
   ]
  },
  {
   "cell_type": "code",
   "execution_count": 82,
   "metadata": {
    "id": "4YINKyDpnKGI"
   },
   "outputs": [],
   "source": [
    "df_grouped = bureau.groupby(['SK_ID_CURR']).agg({'CREDIT_ACTIVE': lambda x:x.value_counts().index[0], 'DAYS_CREDIT': 'mean','AMT_CREDIT_SUM':'mean'})"
   ]
  },
  {
   "cell_type": "code",
   "execution_count": 95,
   "metadata": {
    "colab": {
     "base_uri": "https://localhost:8080/",
     "height": 0
    },
    "id": "NgEdTTfNnKGJ",
    "outputId": "5bdfa306-01df-44f8-e3a0-f325f41e49d6"
   },
   "outputs": [
    {
     "ename": "NameError",
     "evalue": "name 'df_grouped' is not defined",
     "output_type": "error",
     "traceback": [
      "\u001b[0;31m---------------------------------------------------------------------------\u001b[0m",
      "\u001b[0;31mNameError\u001b[0m                                 Traceback (most recent call last)",
      "Input \u001b[0;32mIn [95]\u001b[0m, in \u001b[0;36m<cell line: 1>\u001b[0;34m()\u001b[0m\n\u001b[0;32m----> 1\u001b[0m \u001b[43mdf_grouped\u001b[49m\n",
      "\u001b[0;31mNameError\u001b[0m: name 'df_grouped' is not defined"
     ]
    }
   ],
   "source": [
    "df_grouped"
   ]
  },
  {
   "cell_type": "code",
   "execution_count": 84,
   "metadata": {
    "id": "8i5BFWOInKGK"
   },
   "outputs": [],
   "source": [
    "bureau_grouped = df_grouped"
   ]
  },
  {
   "cell_type": "code",
   "execution_count": 85,
   "metadata": {
    "id": "ceAUuvcUnKGK"
   },
   "outputs": [],
   "source": [
    "bureau_grouped.reset_index(inplace=True)"
   ]
  },
  {
   "cell_type": "code",
   "execution_count": 86,
   "metadata": {
    "colab": {
     "base_uri": "https://localhost:8080/",
     "height": 0
    },
    "id": "HyKNq4RfnKGL",
    "outputId": "33261bda-25b6-4f8f-875b-311d17979121"
   },
   "outputs": [
    {
     "data": {
      "text/html": [
       "<div>\n",
       "<style scoped>\n",
       "    .dataframe tbody tr th:only-of-type {\n",
       "        vertical-align: middle;\n",
       "    }\n",
       "\n",
       "    .dataframe tbody tr th {\n",
       "        vertical-align: top;\n",
       "    }\n",
       "\n",
       "    .dataframe thead th {\n",
       "        text-align: right;\n",
       "    }\n",
       "</style>\n",
       "<table border=\"1\" class=\"dataframe\">\n",
       "  <thead>\n",
       "    <tr style=\"text-align: right;\">\n",
       "      <th></th>\n",
       "      <th>SK_ID_CURR</th>\n",
       "      <th>CREDIT_ACTIVE</th>\n",
       "      <th>DAYS_CREDIT</th>\n",
       "      <th>AMT_CREDIT_SUM</th>\n",
       "    </tr>\n",
       "  </thead>\n",
       "  <tbody>\n",
       "    <tr>\n",
       "      <th>0</th>\n",
       "      <td>100001</td>\n",
       "      <td>Closed</td>\n",
       "      <td>-735.00</td>\n",
       "      <td>207,623.58</td>\n",
       "    </tr>\n",
       "    <tr>\n",
       "      <th>1</th>\n",
       "      <td>100002</td>\n",
       "      <td>Closed</td>\n",
       "      <td>-874.00</td>\n",
       "      <td>108,131.95</td>\n",
       "    </tr>\n",
       "    <tr>\n",
       "      <th>2</th>\n",
       "      <td>100003</td>\n",
       "      <td>Closed</td>\n",
       "      <td>-1,400.75</td>\n",
       "      <td>254,350.12</td>\n",
       "    </tr>\n",
       "    <tr>\n",
       "      <th>3</th>\n",
       "      <td>100004</td>\n",
       "      <td>Closed</td>\n",
       "      <td>-867.00</td>\n",
       "      <td>94,518.90</td>\n",
       "    </tr>\n",
       "    <tr>\n",
       "      <th>4</th>\n",
       "      <td>100005</td>\n",
       "      <td>Active</td>\n",
       "      <td>-190.67</td>\n",
       "      <td>219,042.00</td>\n",
       "    </tr>\n",
       "    <tr>\n",
       "      <th>...</th>\n",
       "      <td>...</td>\n",
       "      <td>...</td>\n",
       "      <td>...</td>\n",
       "      <td>...</td>\n",
       "    </tr>\n",
       "    <tr>\n",
       "      <th>305806</th>\n",
       "      <td>456249</td>\n",
       "      <td>Closed</td>\n",
       "      <td>-1,667.08</td>\n",
       "      <td>284,142.97</td>\n",
       "    </tr>\n",
       "    <tr>\n",
       "      <th>305807</th>\n",
       "      <td>456250</td>\n",
       "      <td>Active</td>\n",
       "      <td>-862.00</td>\n",
       "      <td>1,028,819.81</td>\n",
       "    </tr>\n",
       "    <tr>\n",
       "      <th>305808</th>\n",
       "      <td>456253</td>\n",
       "      <td>Active</td>\n",
       "      <td>-867.50</td>\n",
       "      <td>990,000.00</td>\n",
       "    </tr>\n",
       "    <tr>\n",
       "      <th>305809</th>\n",
       "      <td>456254</td>\n",
       "      <td>Closed</td>\n",
       "      <td>-1,104.00</td>\n",
       "      <td>45,000.00</td>\n",
       "    </tr>\n",
       "    <tr>\n",
       "      <th>305810</th>\n",
       "      <td>456255</td>\n",
       "      <td>Closed</td>\n",
       "      <td>-1,089.45</td>\n",
       "      <td>345,629.03</td>\n",
       "    </tr>\n",
       "  </tbody>\n",
       "</table>\n",
       "<p>305811 rows × 4 columns</p>\n",
       "</div>"
      ],
      "text/plain": [
       "        SK_ID_CURR CREDIT_ACTIVE  DAYS_CREDIT  AMT_CREDIT_SUM\n",
       "0           100001        Closed      -735.00      207,623.58\n",
       "1           100002        Closed      -874.00      108,131.95\n",
       "2           100003        Closed    -1,400.75      254,350.12\n",
       "3           100004        Closed      -867.00       94,518.90\n",
       "4           100005        Active      -190.67      219,042.00\n",
       "...            ...           ...          ...             ...\n",
       "305806      456249        Closed    -1,667.08      284,142.97\n",
       "305807      456250        Active      -862.00    1,028,819.81\n",
       "305808      456253        Active      -867.50      990,000.00\n",
       "305809      456254        Closed    -1,104.00       45,000.00\n",
       "305810      456255        Closed    -1,089.45      345,629.03\n",
       "\n",
       "[305811 rows x 4 columns]"
      ]
     },
     "execution_count": 86,
     "metadata": {},
     "output_type": "execute_result"
    }
   ],
   "source": [
    "bureau_grouped"
   ]
  },
  {
   "cell_type": "code",
   "execution_count": 87,
   "metadata": {
    "colab": {
     "base_uri": "https://localhost:8080/"
    },
    "id": "u1UQOCEjnKGM",
    "outputId": "f94c6dfa-19f1-40bd-ec16-292cb52c4f8f"
   },
   "outputs": [
    {
     "data": {
      "text/plain": [
       "0"
      ]
     },
     "execution_count": 87,
     "metadata": {},
     "output_type": "execute_result"
    }
   ],
   "source": [
    "gc.enable()\n",
    "del bureau,bureau_balanced_grouped,df_grouped\n",
    "gc.collect()\n"
   ]
  },
  {
   "cell_type": "markdown",
   "metadata": {
    "id": "1ATG3bHKnKGN"
   },
   "source": [
    "## credit_card_balance"
   ]
  },
  {
   "cell_type": "code",
   "execution_count": 88,
   "metadata": {
    "id": "sSrEx9DanKGO"
   },
   "outputs": [
    {
     "name": "stdout",
     "output_type": "stream",
     "text": [
      "Memory usage of dataframe is 673.88 MB\n",
      "Memory usage after optimization is: 263.69 MB\n",
      "Decreased by 60.9%\n"
     ]
    }
   ],
   "source": [
    "credit_card_balance = pd.read_csv(path_data+\"/credit_card_balance.csv\")\n",
    "credit_card_balance = reduce_mem_usage(credit_card_balance)"
   ]
  },
  {
   "cell_type": "code",
   "execution_count": 89,
   "metadata": {
    "colab": {
     "base_uri": "https://localhost:8080/",
     "height": 0
    },
    "id": "tZFua9LAnKGP",
    "outputId": "681e9c07-abab-4036-d490-763ca4880461"
   },
   "outputs": [
    {
     "data": {
      "text/html": [
       "<div>\n",
       "<style scoped>\n",
       "    .dataframe tbody tr th:only-of-type {\n",
       "        vertical-align: middle;\n",
       "    }\n",
       "\n",
       "    .dataframe tbody tr th {\n",
       "        vertical-align: top;\n",
       "    }\n",
       "\n",
       "    .dataframe thead th {\n",
       "        text-align: right;\n",
       "    }\n",
       "</style>\n",
       "<table border=\"1\" class=\"dataframe\">\n",
       "  <thead>\n",
       "    <tr style=\"text-align: right;\">\n",
       "      <th></th>\n",
       "      <th>SK_ID_PREV</th>\n",
       "      <th>SK_ID_CURR</th>\n",
       "      <th>MONTHS_BALANCE</th>\n",
       "      <th>AMT_BALANCE</th>\n",
       "      <th>AMT_CREDIT_LIMIT_ACTUAL</th>\n",
       "      <th>AMT_DRAWINGS_ATM_CURRENT</th>\n",
       "      <th>AMT_DRAWINGS_CURRENT</th>\n",
       "      <th>AMT_DRAWINGS_OTHER_CURRENT</th>\n",
       "      <th>AMT_DRAWINGS_POS_CURRENT</th>\n",
       "      <th>AMT_INST_MIN_REGULARITY</th>\n",
       "      <th>AMT_PAYMENT_CURRENT</th>\n",
       "      <th>AMT_PAYMENT_TOTAL_CURRENT</th>\n",
       "      <th>AMT_RECEIVABLE_PRINCIPAL</th>\n",
       "      <th>AMT_RECIVABLE</th>\n",
       "      <th>AMT_TOTAL_RECEIVABLE</th>\n",
       "      <th>CNT_DRAWINGS_ATM_CURRENT</th>\n",
       "      <th>CNT_DRAWINGS_CURRENT</th>\n",
       "      <th>CNT_DRAWINGS_OTHER_CURRENT</th>\n",
       "      <th>CNT_DRAWINGS_POS_CURRENT</th>\n",
       "      <th>CNT_INSTALMENT_MATURE_CUM</th>\n",
       "      <th>NAME_CONTRACT_STATUS</th>\n",
       "      <th>SK_DPD</th>\n",
       "      <th>SK_DPD_DEF</th>\n",
       "    </tr>\n",
       "  </thead>\n",
       "  <tbody>\n",
       "    <tr>\n",
       "      <th>0</th>\n",
       "      <td>2562384</td>\n",
       "      <td>378907</td>\n",
       "      <td>-6</td>\n",
       "      <td>56.97</td>\n",
       "      <td>135000</td>\n",
       "      <td>0.00</td>\n",
       "      <td>877.50</td>\n",
       "      <td>0.00</td>\n",
       "      <td>877.50</td>\n",
       "      <td>1,700.32</td>\n",
       "      <td>1,800.00</td>\n",
       "      <td>1,800.00</td>\n",
       "      <td>0.00</td>\n",
       "      <td>0.00</td>\n",
       "      <td>0.00</td>\n",
       "      <td>0.00</td>\n",
       "      <td>1</td>\n",
       "      <td>0.00</td>\n",
       "      <td>1.00</td>\n",
       "      <td>35.00</td>\n",
       "      <td>Active</td>\n",
       "      <td>0</td>\n",
       "      <td>0</td>\n",
       "    </tr>\n",
       "    <tr>\n",
       "      <th>1</th>\n",
       "      <td>2582071</td>\n",
       "      <td>363914</td>\n",
       "      <td>-1</td>\n",
       "      <td>63,975.55</td>\n",
       "      <td>45000</td>\n",
       "      <td>2,250.00</td>\n",
       "      <td>2,250.00</td>\n",
       "      <td>0.00</td>\n",
       "      <td>0.00</td>\n",
       "      <td>2,250.00</td>\n",
       "      <td>2,250.00</td>\n",
       "      <td>2,250.00</td>\n",
       "      <td>60,175.08</td>\n",
       "      <td>64,875.55</td>\n",
       "      <td>64,875.55</td>\n",
       "      <td>1.00</td>\n",
       "      <td>1</td>\n",
       "      <td>0.00</td>\n",
       "      <td>0.00</td>\n",
       "      <td>69.00</td>\n",
       "      <td>Active</td>\n",
       "      <td>0</td>\n",
       "      <td>0</td>\n",
       "    </tr>\n",
       "    <tr>\n",
       "      <th>2</th>\n",
       "      <td>1740877</td>\n",
       "      <td>371185</td>\n",
       "      <td>-7</td>\n",
       "      <td>31,815.22</td>\n",
       "      <td>450000</td>\n",
       "      <td>0.00</td>\n",
       "      <td>0.00</td>\n",
       "      <td>0.00</td>\n",
       "      <td>0.00</td>\n",
       "      <td>2,250.00</td>\n",
       "      <td>2,250.00</td>\n",
       "      <td>2,250.00</td>\n",
       "      <td>26,926.43</td>\n",
       "      <td>31,460.09</td>\n",
       "      <td>31,460.09</td>\n",
       "      <td>0.00</td>\n",
       "      <td>0</td>\n",
       "      <td>0.00</td>\n",
       "      <td>0.00</td>\n",
       "      <td>30.00</td>\n",
       "      <td>Active</td>\n",
       "      <td>0</td>\n",
       "      <td>0</td>\n",
       "    </tr>\n",
       "  </tbody>\n",
       "</table>\n",
       "</div>"
      ],
      "text/plain": [
       "   SK_ID_PREV  SK_ID_CURR  MONTHS_BALANCE  AMT_BALANCE  \\\n",
       "0     2562384      378907              -6        56.97   \n",
       "1     2582071      363914              -1    63,975.55   \n",
       "2     1740877      371185              -7    31,815.22   \n",
       "\n",
       "   AMT_CREDIT_LIMIT_ACTUAL  AMT_DRAWINGS_ATM_CURRENT  AMT_DRAWINGS_CURRENT  \\\n",
       "0                   135000                      0.00                877.50   \n",
       "1                    45000                  2,250.00              2,250.00   \n",
       "2                   450000                      0.00                  0.00   \n",
       "\n",
       "   AMT_DRAWINGS_OTHER_CURRENT  AMT_DRAWINGS_POS_CURRENT  \\\n",
       "0                        0.00                    877.50   \n",
       "1                        0.00                      0.00   \n",
       "2                        0.00                      0.00   \n",
       "\n",
       "   AMT_INST_MIN_REGULARITY  AMT_PAYMENT_CURRENT  AMT_PAYMENT_TOTAL_CURRENT  \\\n",
       "0                 1,700.32             1,800.00                   1,800.00   \n",
       "1                 2,250.00             2,250.00                   2,250.00   \n",
       "2                 2,250.00             2,250.00                   2,250.00   \n",
       "\n",
       "   AMT_RECEIVABLE_PRINCIPAL  AMT_RECIVABLE  AMT_TOTAL_RECEIVABLE  \\\n",
       "0                      0.00           0.00                  0.00   \n",
       "1                 60,175.08      64,875.55             64,875.55   \n",
       "2                 26,926.43      31,460.09             31,460.09   \n",
       "\n",
       "   CNT_DRAWINGS_ATM_CURRENT  CNT_DRAWINGS_CURRENT  CNT_DRAWINGS_OTHER_CURRENT  \\\n",
       "0                      0.00                     1                        0.00   \n",
       "1                      1.00                     1                        0.00   \n",
       "2                      0.00                     0                        0.00   \n",
       "\n",
       "   CNT_DRAWINGS_POS_CURRENT  CNT_INSTALMENT_MATURE_CUM NAME_CONTRACT_STATUS  \\\n",
       "0                      1.00                      35.00               Active   \n",
       "1                      0.00                      69.00               Active   \n",
       "2                      0.00                      30.00               Active   \n",
       "\n",
       "   SK_DPD  SK_DPD_DEF  \n",
       "0       0           0  \n",
       "1       0           0  \n",
       "2       0           0  "
      ]
     },
     "execution_count": 89,
     "metadata": {},
     "output_type": "execute_result"
    }
   ],
   "source": [
    "credit_card_balance.head(3)"
   ]
  },
  {
   "cell_type": "code",
   "execution_count": 90,
   "metadata": {
    "id": "-VlFlK_tnKGP"
   },
   "outputs": [],
   "source": [
    "cols_num = [ 'AMT_BALANCE',\n",
    "       'AMT_CREDIT_LIMIT_ACTUAL', 'AMT_DRAWINGS_ATM_CURRENT',\n",
    "       'AMT_DRAWINGS_CURRENT', 'AMT_DRAWINGS_OTHER_CURRENT',\n",
    "       'AMT_DRAWINGS_POS_CURRENT', 'AMT_INST_MIN_REGULARITY',\n",
    "       'AMT_PAYMENT_CURRENT', 'AMT_PAYMENT_TOTAL_CURRENT',\n",
    "       'AMT_RECEIVABLE_PRINCIPAL', 'AMT_RECIVABLE', 'AMT_TOTAL_RECEIVABLE', 'SK_DPD',\n",
    "       'SK_DPD_DEF']"
   ]
  },
  {
   "cell_type": "code",
   "execution_count": 91,
   "metadata": {
    "id": "NCKmuwfEnKGQ"
   },
   "outputs": [],
   "source": [
    "credit_card_balance = credit_card_balance[credit_card_balance['MONTHS_BALANCE']>-13]"
   ]
  },
  {
   "cell_type": "code",
   "execution_count": 92,
   "metadata": {
    "id": "ePA8L54hnKGR"
   },
   "outputs": [],
   "source": [
    "l ={}\n",
    "for c in cols_num:\n",
    "    l.update({c: 'mean'})"
   ]
  },
  {
   "cell_type": "code",
   "execution_count": 93,
   "metadata": {
    "id": "9k27j_JlnKGS"
   },
   "outputs": [],
   "source": [
    "l.update({'NAME_CONTRACT_STATUS': lambda x:x.value_counts().index[0]})"
   ]
  },
  {
   "cell_type": "code",
   "execution_count": 94,
   "metadata": {
    "colab": {
     "base_uri": "https://localhost:8080/",
     "height": 0
    },
    "id": "eu6foFaCnKGT",
    "outputId": "0b65d010-ae0c-443c-bb5e-c8c7bc0eac32"
   },
   "outputs": [
    {
     "data": {
      "text/html": [
       "<div>\n",
       "<style scoped>\n",
       "    .dataframe tbody tr th:only-of-type {\n",
       "        vertical-align: middle;\n",
       "    }\n",
       "\n",
       "    .dataframe tbody tr th {\n",
       "        vertical-align: top;\n",
       "    }\n",
       "\n",
       "    .dataframe thead th {\n",
       "        text-align: right;\n",
       "    }\n",
       "</style>\n",
       "<table border=\"1\" class=\"dataframe\">\n",
       "  <thead>\n",
       "    <tr style=\"text-align: right;\">\n",
       "      <th></th>\n",
       "      <th>SK_ID_PREV</th>\n",
       "      <th>SK_ID_CURR</th>\n",
       "      <th>MONTHS_BALANCE</th>\n",
       "      <th>AMT_BALANCE</th>\n",
       "      <th>AMT_CREDIT_LIMIT_ACTUAL</th>\n",
       "      <th>AMT_DRAWINGS_ATM_CURRENT</th>\n",
       "      <th>AMT_DRAWINGS_CURRENT</th>\n",
       "      <th>AMT_DRAWINGS_OTHER_CURRENT</th>\n",
       "      <th>AMT_DRAWINGS_POS_CURRENT</th>\n",
       "      <th>AMT_INST_MIN_REGULARITY</th>\n",
       "      <th>AMT_PAYMENT_CURRENT</th>\n",
       "      <th>AMT_PAYMENT_TOTAL_CURRENT</th>\n",
       "      <th>AMT_RECEIVABLE_PRINCIPAL</th>\n",
       "      <th>AMT_RECIVABLE</th>\n",
       "      <th>AMT_TOTAL_RECEIVABLE</th>\n",
       "      <th>CNT_DRAWINGS_ATM_CURRENT</th>\n",
       "      <th>CNT_DRAWINGS_CURRENT</th>\n",
       "      <th>CNT_DRAWINGS_OTHER_CURRENT</th>\n",
       "      <th>CNT_DRAWINGS_POS_CURRENT</th>\n",
       "      <th>CNT_INSTALMENT_MATURE_CUM</th>\n",
       "      <th>NAME_CONTRACT_STATUS</th>\n",
       "      <th>SK_DPD</th>\n",
       "      <th>SK_DPD_DEF</th>\n",
       "    </tr>\n",
       "  </thead>\n",
       "  <tbody>\n",
       "    <tr>\n",
       "      <th>0</th>\n",
       "      <td>2562384</td>\n",
       "      <td>378907</td>\n",
       "      <td>-6</td>\n",
       "      <td>56.97</td>\n",
       "      <td>135000</td>\n",
       "      <td>0.00</td>\n",
       "      <td>877.50</td>\n",
       "      <td>0.00</td>\n",
       "      <td>877.50</td>\n",
       "      <td>1,700.32</td>\n",
       "      <td>1,800.00</td>\n",
       "      <td>1,800.00</td>\n",
       "      <td>0.00</td>\n",
       "      <td>0.00</td>\n",
       "      <td>0.00</td>\n",
       "      <td>0.00</td>\n",
       "      <td>1</td>\n",
       "      <td>0.00</td>\n",
       "      <td>1.00</td>\n",
       "      <td>35.00</td>\n",
       "      <td>Active</td>\n",
       "      <td>0</td>\n",
       "      <td>0</td>\n",
       "    </tr>\n",
       "    <tr>\n",
       "      <th>1</th>\n",
       "      <td>2582071</td>\n",
       "      <td>363914</td>\n",
       "      <td>-1</td>\n",
       "      <td>63,975.55</td>\n",
       "      <td>45000</td>\n",
       "      <td>2,250.00</td>\n",
       "      <td>2,250.00</td>\n",
       "      <td>0.00</td>\n",
       "      <td>0.00</td>\n",
       "      <td>2,250.00</td>\n",
       "      <td>2,250.00</td>\n",
       "      <td>2,250.00</td>\n",
       "      <td>60,175.08</td>\n",
       "      <td>64,875.55</td>\n",
       "      <td>64,875.55</td>\n",
       "      <td>1.00</td>\n",
       "      <td>1</td>\n",
       "      <td>0.00</td>\n",
       "      <td>0.00</td>\n",
       "      <td>69.00</td>\n",
       "      <td>Active</td>\n",
       "      <td>0</td>\n",
       "      <td>0</td>\n",
       "    </tr>\n",
       "    <tr>\n",
       "      <th>2</th>\n",
       "      <td>1740877</td>\n",
       "      <td>371185</td>\n",
       "      <td>-7</td>\n",
       "      <td>31,815.22</td>\n",
       "      <td>450000</td>\n",
       "      <td>0.00</td>\n",
       "      <td>0.00</td>\n",
       "      <td>0.00</td>\n",
       "      <td>0.00</td>\n",
       "      <td>2,250.00</td>\n",
       "      <td>2,250.00</td>\n",
       "      <td>2,250.00</td>\n",
       "      <td>26,926.43</td>\n",
       "      <td>31,460.09</td>\n",
       "      <td>31,460.09</td>\n",
       "      <td>0.00</td>\n",
       "      <td>0</td>\n",
       "      <td>0.00</td>\n",
       "      <td>0.00</td>\n",
       "      <td>30.00</td>\n",
       "      <td>Active</td>\n",
       "      <td>0</td>\n",
       "      <td>0</td>\n",
       "    </tr>\n",
       "    <tr>\n",
       "      <th>3</th>\n",
       "      <td>1389973</td>\n",
       "      <td>337855</td>\n",
       "      <td>-4</td>\n",
       "      <td>236,572.11</td>\n",
       "      <td>225000</td>\n",
       "      <td>2,250.00</td>\n",
       "      <td>2,250.00</td>\n",
       "      <td>0.00</td>\n",
       "      <td>0.00</td>\n",
       "      <td>11,795.76</td>\n",
       "      <td>11,925.00</td>\n",
       "      <td>11,925.00</td>\n",
       "      <td>224,949.28</td>\n",
       "      <td>233,048.97</td>\n",
       "      <td>233,048.97</td>\n",
       "      <td>1.00</td>\n",
       "      <td>1</td>\n",
       "      <td>0.00</td>\n",
       "      <td>0.00</td>\n",
       "      <td>10.00</td>\n",
       "      <td>Active</td>\n",
       "      <td>0</td>\n",
       "      <td>0</td>\n",
       "    </tr>\n",
       "    <tr>\n",
       "      <th>4</th>\n",
       "      <td>1891521</td>\n",
       "      <td>126868</td>\n",
       "      <td>-1</td>\n",
       "      <td>453,919.47</td>\n",
       "      <td>450000</td>\n",
       "      <td>0.00</td>\n",
       "      <td>11,547.00</td>\n",
       "      <td>0.00</td>\n",
       "      <td>11,547.00</td>\n",
       "      <td>22,924.89</td>\n",
       "      <td>27,000.00</td>\n",
       "      <td>27,000.00</td>\n",
       "      <td>443,044.41</td>\n",
       "      <td>453,919.47</td>\n",
       "      <td>453,919.47</td>\n",
       "      <td>0.00</td>\n",
       "      <td>1</td>\n",
       "      <td>0.00</td>\n",
       "      <td>1.00</td>\n",
       "      <td>101.00</td>\n",
       "      <td>Active</td>\n",
       "      <td>0</td>\n",
       "      <td>0</td>\n",
       "    </tr>\n",
       "    <tr>\n",
       "      <th>...</th>\n",
       "      <td>...</td>\n",
       "      <td>...</td>\n",
       "      <td>...</td>\n",
       "      <td>...</td>\n",
       "      <td>...</td>\n",
       "      <td>...</td>\n",
       "      <td>...</td>\n",
       "      <td>...</td>\n",
       "      <td>...</td>\n",
       "      <td>...</td>\n",
       "      <td>...</td>\n",
       "      <td>...</td>\n",
       "      <td>...</td>\n",
       "      <td>...</td>\n",
       "      <td>...</td>\n",
       "      <td>...</td>\n",
       "      <td>...</td>\n",
       "      <td>...</td>\n",
       "      <td>...</td>\n",
       "      <td>...</td>\n",
       "      <td>...</td>\n",
       "      <td>...</td>\n",
       "      <td>...</td>\n",
       "    </tr>\n",
       "    <tr>\n",
       "      <th>3840307</th>\n",
       "      <td>1036507</td>\n",
       "      <td>328243</td>\n",
       "      <td>-9</td>\n",
       "      <td>0.00</td>\n",
       "      <td>45000</td>\n",
       "      <td>NaN</td>\n",
       "      <td>0.00</td>\n",
       "      <td>NaN</td>\n",
       "      <td>NaN</td>\n",
       "      <td>0.00</td>\n",
       "      <td>NaN</td>\n",
       "      <td>0.00</td>\n",
       "      <td>0.00</td>\n",
       "      <td>0.00</td>\n",
       "      <td>0.00</td>\n",
       "      <td>NaN</td>\n",
       "      <td>0</td>\n",
       "      <td>NaN</td>\n",
       "      <td>NaN</td>\n",
       "      <td>0.00</td>\n",
       "      <td>Active</td>\n",
       "      <td>0</td>\n",
       "      <td>0</td>\n",
       "    </tr>\n",
       "    <tr>\n",
       "      <th>3840308</th>\n",
       "      <td>1714892</td>\n",
       "      <td>347207</td>\n",
       "      <td>-9</td>\n",
       "      <td>0.00</td>\n",
       "      <td>45000</td>\n",
       "      <td>0.00</td>\n",
       "      <td>0.00</td>\n",
       "      <td>0.00</td>\n",
       "      <td>0.00</td>\n",
       "      <td>0.00</td>\n",
       "      <td>1,879.11</td>\n",
       "      <td>0.00</td>\n",
       "      <td>0.00</td>\n",
       "      <td>0.00</td>\n",
       "      <td>0.00</td>\n",
       "      <td>0.00</td>\n",
       "      <td>0</td>\n",
       "      <td>0.00</td>\n",
       "      <td>0.00</td>\n",
       "      <td>23.00</td>\n",
       "      <td>Active</td>\n",
       "      <td>0</td>\n",
       "      <td>0</td>\n",
       "    </tr>\n",
       "    <tr>\n",
       "      <th>3840309</th>\n",
       "      <td>1302323</td>\n",
       "      <td>215757</td>\n",
       "      <td>-9</td>\n",
       "      <td>275,784.97</td>\n",
       "      <td>585000</td>\n",
       "      <td>270,000.00</td>\n",
       "      <td>270,000.00</td>\n",
       "      <td>0.00</td>\n",
       "      <td>0.00</td>\n",
       "      <td>2,250.00</td>\n",
       "      <td>375,750.00</td>\n",
       "      <td>356,994.69</td>\n",
       "      <td>269,356.12</td>\n",
       "      <td>273,093.97</td>\n",
       "      <td>273,093.97</td>\n",
       "      <td>2.00</td>\n",
       "      <td>2</td>\n",
       "      <td>0.00</td>\n",
       "      <td>0.00</td>\n",
       "      <td>18.00</td>\n",
       "      <td>Active</td>\n",
       "      <td>0</td>\n",
       "      <td>0</td>\n",
       "    </tr>\n",
       "    <tr>\n",
       "      <th>3840310</th>\n",
       "      <td>1624872</td>\n",
       "      <td>430337</td>\n",
       "      <td>-10</td>\n",
       "      <td>0.00</td>\n",
       "      <td>450000</td>\n",
       "      <td>NaN</td>\n",
       "      <td>0.00</td>\n",
       "      <td>NaN</td>\n",
       "      <td>NaN</td>\n",
       "      <td>0.00</td>\n",
       "      <td>NaN</td>\n",
       "      <td>0.00</td>\n",
       "      <td>0.00</td>\n",
       "      <td>0.00</td>\n",
       "      <td>0.00</td>\n",
       "      <td>NaN</td>\n",
       "      <td>0</td>\n",
       "      <td>NaN</td>\n",
       "      <td>NaN</td>\n",
       "      <td>0.00</td>\n",
       "      <td>Active</td>\n",
       "      <td>0</td>\n",
       "      <td>0</td>\n",
       "    </tr>\n",
       "    <tr>\n",
       "      <th>3840311</th>\n",
       "      <td>2411345</td>\n",
       "      <td>236760</td>\n",
       "      <td>-10</td>\n",
       "      <td>0.00</td>\n",
       "      <td>157500</td>\n",
       "      <td>0.00</td>\n",
       "      <td>0.00</td>\n",
       "      <td>0.00</td>\n",
       "      <td>0.00</td>\n",
       "      <td>0.00</td>\n",
       "      <td>0.00</td>\n",
       "      <td>0.00</td>\n",
       "      <td>0.00</td>\n",
       "      <td>0.00</td>\n",
       "      <td>0.00</td>\n",
       "      <td>0.00</td>\n",
       "      <td>0</td>\n",
       "      <td>0.00</td>\n",
       "      <td>0.00</td>\n",
       "      <td>21.00</td>\n",
       "      <td>Completed</td>\n",
       "      <td>0</td>\n",
       "      <td>0</td>\n",
       "    </tr>\n",
       "  </tbody>\n",
       "</table>\n",
       "<p>1067856 rows × 23 columns</p>\n",
       "</div>"
      ],
      "text/plain": [
       "         SK_ID_PREV  SK_ID_CURR  MONTHS_BALANCE  AMT_BALANCE  \\\n",
       "0           2562384      378907              -6        56.97   \n",
       "1           2582071      363914              -1    63,975.55   \n",
       "2           1740877      371185              -7    31,815.22   \n",
       "3           1389973      337855              -4   236,572.11   \n",
       "4           1891521      126868              -1   453,919.47   \n",
       "...             ...         ...             ...          ...   \n",
       "3840307     1036507      328243              -9         0.00   \n",
       "3840308     1714892      347207              -9         0.00   \n",
       "3840309     1302323      215757              -9   275,784.97   \n",
       "3840310     1624872      430337             -10         0.00   \n",
       "3840311     2411345      236760             -10         0.00   \n",
       "\n",
       "         AMT_CREDIT_LIMIT_ACTUAL  AMT_DRAWINGS_ATM_CURRENT  \\\n",
       "0                         135000                      0.00   \n",
       "1                          45000                  2,250.00   \n",
       "2                         450000                      0.00   \n",
       "3                         225000                  2,250.00   \n",
       "4                         450000                      0.00   \n",
       "...                          ...                       ...   \n",
       "3840307                    45000                       NaN   \n",
       "3840308                    45000                      0.00   \n",
       "3840309                   585000                270,000.00   \n",
       "3840310                   450000                       NaN   \n",
       "3840311                   157500                      0.00   \n",
       "\n",
       "         AMT_DRAWINGS_CURRENT  AMT_DRAWINGS_OTHER_CURRENT  \\\n",
       "0                      877.50                        0.00   \n",
       "1                    2,250.00                        0.00   \n",
       "2                        0.00                        0.00   \n",
       "3                    2,250.00                        0.00   \n",
       "4                   11,547.00                        0.00   \n",
       "...                       ...                         ...   \n",
       "3840307                  0.00                         NaN   \n",
       "3840308                  0.00                        0.00   \n",
       "3840309            270,000.00                        0.00   \n",
       "3840310                  0.00                         NaN   \n",
       "3840311                  0.00                        0.00   \n",
       "\n",
       "         AMT_DRAWINGS_POS_CURRENT  AMT_INST_MIN_REGULARITY  \\\n",
       "0                          877.50                 1,700.32   \n",
       "1                            0.00                 2,250.00   \n",
       "2                            0.00                 2,250.00   \n",
       "3                            0.00                11,795.76   \n",
       "4                       11,547.00                22,924.89   \n",
       "...                           ...                      ...   \n",
       "3840307                       NaN                     0.00   \n",
       "3840308                      0.00                     0.00   \n",
       "3840309                      0.00                 2,250.00   \n",
       "3840310                       NaN                     0.00   \n",
       "3840311                      0.00                     0.00   \n",
       "\n",
       "         AMT_PAYMENT_CURRENT  AMT_PAYMENT_TOTAL_CURRENT  \\\n",
       "0                   1,800.00                   1,800.00   \n",
       "1                   2,250.00                   2,250.00   \n",
       "2                   2,250.00                   2,250.00   \n",
       "3                  11,925.00                  11,925.00   \n",
       "4                  27,000.00                  27,000.00   \n",
       "...                      ...                        ...   \n",
       "3840307                  NaN                       0.00   \n",
       "3840308             1,879.11                       0.00   \n",
       "3840309           375,750.00                 356,994.69   \n",
       "3840310                  NaN                       0.00   \n",
       "3840311                 0.00                       0.00   \n",
       "\n",
       "         AMT_RECEIVABLE_PRINCIPAL  AMT_RECIVABLE  AMT_TOTAL_RECEIVABLE  \\\n",
       "0                            0.00           0.00                  0.00   \n",
       "1                       60,175.08      64,875.55             64,875.55   \n",
       "2                       26,926.43      31,460.09             31,460.09   \n",
       "3                      224,949.28     233,048.97            233,048.97   \n",
       "4                      443,044.41     453,919.47            453,919.47   \n",
       "...                           ...            ...                   ...   \n",
       "3840307                      0.00           0.00                  0.00   \n",
       "3840308                      0.00           0.00                  0.00   \n",
       "3840309                269,356.12     273,093.97            273,093.97   \n",
       "3840310                      0.00           0.00                  0.00   \n",
       "3840311                      0.00           0.00                  0.00   \n",
       "\n",
       "         CNT_DRAWINGS_ATM_CURRENT  CNT_DRAWINGS_CURRENT  \\\n",
       "0                            0.00                     1   \n",
       "1                            1.00                     1   \n",
       "2                            0.00                     0   \n",
       "3                            1.00                     1   \n",
       "4                            0.00                     1   \n",
       "...                           ...                   ...   \n",
       "3840307                       NaN                     0   \n",
       "3840308                      0.00                     0   \n",
       "3840309                      2.00                     2   \n",
       "3840310                       NaN                     0   \n",
       "3840311                      0.00                     0   \n",
       "\n",
       "         CNT_DRAWINGS_OTHER_CURRENT  CNT_DRAWINGS_POS_CURRENT  \\\n",
       "0                              0.00                      1.00   \n",
       "1                              0.00                      0.00   \n",
       "2                              0.00                      0.00   \n",
       "3                              0.00                      0.00   \n",
       "4                              0.00                      1.00   \n",
       "...                             ...                       ...   \n",
       "3840307                         NaN                       NaN   \n",
       "3840308                        0.00                      0.00   \n",
       "3840309                        0.00                      0.00   \n",
       "3840310                         NaN                       NaN   \n",
       "3840311                        0.00                      0.00   \n",
       "\n",
       "         CNT_INSTALMENT_MATURE_CUM NAME_CONTRACT_STATUS  SK_DPD  SK_DPD_DEF  \n",
       "0                            35.00               Active       0           0  \n",
       "1                            69.00               Active       0           0  \n",
       "2                            30.00               Active       0           0  \n",
       "3                            10.00               Active       0           0  \n",
       "4                           101.00               Active       0           0  \n",
       "...                            ...                  ...     ...         ...  \n",
       "3840307                       0.00               Active       0           0  \n",
       "3840308                      23.00               Active       0           0  \n",
       "3840309                      18.00               Active       0           0  \n",
       "3840310                       0.00               Active       0           0  \n",
       "3840311                      21.00            Completed       0           0  \n",
       "\n",
       "[1067856 rows x 23 columns]"
      ]
     },
     "execution_count": 94,
     "metadata": {},
     "output_type": "execute_result"
    }
   ],
   "source": [
    "credit_card_balance"
   ]
  },
  {
   "cell_type": "code",
   "execution_count": 96,
   "metadata": {
    "id": "dTGem4CAnKGU"
   },
   "outputs": [],
   "source": [
    "df_grouped = credit_card_balance.groupby(['SK_ID_CURR']).agg(l)"
   ]
  },
  {
   "cell_type": "code",
   "execution_count": 97,
   "metadata": {
    "id": "BEAuVkvKnKGU"
   },
   "outputs": [],
   "source": [
    "df_grouped.reset_index(inplace=True)"
   ]
  },
  {
   "cell_type": "code",
   "execution_count": 98,
   "metadata": {
    "id": "t2pKQzJwnKGV"
   },
   "outputs": [],
   "source": [
    "df_to_corr = df_grouped.merge(df_final[['TARGET','SK_ID_CURR']], on = 'SK_ID_CURR', how = 'left')"
   ]
  },
  {
   "cell_type": "code",
   "execution_count": 99,
   "metadata": {
    "colab": {
     "base_uri": "https://localhost:8080/",
     "height": 0
    },
    "id": "ZIqiIHornKGW",
    "outputId": "b75b201d-6a7c-4a1e-f404-01ca1f8ab351"
   },
   "outputs": [
    {
     "data": {
      "image/png": "[encoded data removed]",
      "text/plain": [
       "<Figure size 1080x576 with 2 Axes>"
      ]
     },
     "metadata": {
      "needs_background": "light"
     },
     "output_type": "display_data"
    }
   ],
   "source": [
    "import matplotlib.pyplot as plt\n",
    "import seaborn as sns\n",
    "corr = df_to_corr.corr()\n",
    "plt.figure(figsize=(15,8))\n",
    "sns.heatmap(corr , annot=True, linewidths=.2, cmap=\"YlGnBu\");"
   ]
  },
  {
   "cell_type": "code",
   "execution_count": 100,
   "metadata": {
    "id": "TZ7JloOInKGX"
   },
   "outputs": [],
   "source": [
    "selected_columns= ['SK_ID_CURR','AMT_BALANCE','AMT_PAYMENT_CURRENT','SK_DPD','SK_DPD_DEF']"
   ]
  },
  {
   "cell_type": "code",
   "execution_count": 101,
   "metadata": {
    "id": "MVL6vIRTnKGY"
   },
   "outputs": [],
   "source": [
    "df_grouped= df_grouped[selected_columns]"
   ]
  },
  {
   "cell_type": "code",
   "execution_count": 102,
   "metadata": {
    "id": "Y_xVUxXQnKGY"
   },
   "outputs": [],
   "source": [
    "credit_card_balance_grouped = df_grouped"
   ]
  },
  {
   "cell_type": "code",
   "execution_count": 103,
   "metadata": {
    "colab": {
     "base_uri": "https://localhost:8080/"
    },
    "id": "0ytYYxhrnKGZ",
    "outputId": "59ef3ab5-2172-4bad-cc83-2c48071a590a"
   },
   "outputs": [
    {
     "data": {
      "text/plain": [
       "22141"
      ]
     },
     "execution_count": 103,
     "metadata": {},
     "output_type": "execute_result"
    }
   ],
   "source": [
    "gc.enable()\n",
    "del credit_card_balance,df_grouped\n",
    "gc.collect()"
   ]
  },
  {
   "cell_type": "code",
   "execution_count": 104,
   "metadata": {
    "colab": {
     "base_uri": "https://localhost:8080/",
     "height": 0
    },
    "id": "0STFWIAUnKGa",
    "outputId": "c61a49ca-54e0-47de-9ff3-49bfdef5ddb9"
   },
   "outputs": [
    {
     "data": {
      "text/html": [
       "<div>\n",
       "<style scoped>\n",
       "    .dataframe tbody tr th:only-of-type {\n",
       "        vertical-align: middle;\n",
       "    }\n",
       "\n",
       "    .dataframe tbody tr th {\n",
       "        vertical-align: top;\n",
       "    }\n",
       "\n",
       "    .dataframe thead th {\n",
       "        text-align: right;\n",
       "    }\n",
       "</style>\n",
       "<table border=\"1\" class=\"dataframe\">\n",
       "  <thead>\n",
       "    <tr style=\"text-align: right;\">\n",
       "      <th></th>\n",
       "      <th>SK_ID_CURR</th>\n",
       "      <th>AMT_BALANCE</th>\n",
       "      <th>AMT_PAYMENT_CURRENT</th>\n",
       "      <th>SK_DPD</th>\n",
       "      <th>SK_DPD_DEF</th>\n",
       "    </tr>\n",
       "  </thead>\n",
       "  <tbody>\n",
       "    <tr>\n",
       "      <th>0</th>\n",
       "      <td>100006</td>\n",
       "      <td>0.00</td>\n",
       "      <td>NaN</td>\n",
       "      <td>0.00</td>\n",
       "      <td>0.00</td>\n",
       "    </tr>\n",
       "    <tr>\n",
       "      <th>1</th>\n",
       "      <td>100011</td>\n",
       "      <td>0.00</td>\n",
       "      <td>563.35</td>\n",
       "      <td>0.00</td>\n",
       "      <td>0.00</td>\n",
       "    </tr>\n",
       "    <tr>\n",
       "      <th>2</th>\n",
       "      <td>100013</td>\n",
       "      <td>0.00</td>\n",
       "      <td>274.32</td>\n",
       "      <td>0.00</td>\n",
       "      <td>0.00</td>\n",
       "    </tr>\n",
       "    <tr>\n",
       "      <th>3</th>\n",
       "      <td>100021</td>\n",
       "      <td>0.00</td>\n",
       "      <td>NaN</td>\n",
       "      <td>0.00</td>\n",
       "      <td>0.00</td>\n",
       "    </tr>\n",
       "    <tr>\n",
       "      <th>4</th>\n",
       "      <td>100023</td>\n",
       "      <td>0.00</td>\n",
       "      <td>NaN</td>\n",
       "      <td>0.00</td>\n",
       "      <td>0.00</td>\n",
       "    </tr>\n",
       "    <tr>\n",
       "      <th>...</th>\n",
       "      <td>...</td>\n",
       "      <td>...</td>\n",
       "      <td>...</td>\n",
       "      <td>...</td>\n",
       "      <td>...</td>\n",
       "    </tr>\n",
       "    <tr>\n",
       "      <th>103553</th>\n",
       "      <td>456244</td>\n",
       "      <td>0.00</td>\n",
       "      <td>89.99</td>\n",
       "      <td>0.00</td>\n",
       "      <td>0.00</td>\n",
       "    </tr>\n",
       "    <tr>\n",
       "      <th>103554</th>\n",
       "      <td>456246</td>\n",
       "      <td>13,136.73</td>\n",
       "      <td>18,778.28</td>\n",
       "      <td>0.00</td>\n",
       "      <td>0.00</td>\n",
       "    </tr>\n",
       "    <tr>\n",
       "      <th>103555</th>\n",
       "      <td>456247</td>\n",
       "      <td>0.00</td>\n",
       "      <td>520.60</td>\n",
       "      <td>0.00</td>\n",
       "      <td>0.00</td>\n",
       "    </tr>\n",
       "    <tr>\n",
       "      <th>103556</th>\n",
       "      <td>456248</td>\n",
       "      <td>0.00</td>\n",
       "      <td>NaN</td>\n",
       "      <td>0.00</td>\n",
       "      <td>0.00</td>\n",
       "    </tr>\n",
       "    <tr>\n",
       "      <th>103557</th>\n",
       "      <td>456250</td>\n",
       "      <td>173,589.33</td>\n",
       "      <td>10,748.25</td>\n",
       "      <td>0.00</td>\n",
       "      <td>0.00</td>\n",
       "    </tr>\n",
       "  </tbody>\n",
       "</table>\n",
       "<p>103558 rows × 5 columns</p>\n",
       "</div>"
      ],
      "text/plain": [
       "        SK_ID_CURR  AMT_BALANCE  AMT_PAYMENT_CURRENT  SK_DPD  SK_DPD_DEF\n",
       "0           100006         0.00                  NaN    0.00        0.00\n",
       "1           100011         0.00               563.35    0.00        0.00\n",
       "2           100013         0.00               274.32    0.00        0.00\n",
       "3           100021         0.00                  NaN    0.00        0.00\n",
       "4           100023         0.00                  NaN    0.00        0.00\n",
       "...            ...          ...                  ...     ...         ...\n",
       "103553      456244         0.00                89.99    0.00        0.00\n",
       "103554      456246    13,136.73            18,778.28    0.00        0.00\n",
       "103555      456247         0.00               520.60    0.00        0.00\n",
       "103556      456248         0.00                  NaN    0.00        0.00\n",
       "103557      456250   173,589.33            10,748.25    0.00        0.00\n",
       "\n",
       "[103558 rows x 5 columns]"
      ]
     },
     "execution_count": 104,
     "metadata": {},
     "output_type": "execute_result"
    }
   ],
   "source": [
    "credit_card_balance_grouped"
   ]
  },
  {
   "cell_type": "markdown",
   "metadata": {
    "id": "N8wqBojinKGb"
   },
   "source": [
    "## installments_payments"
   ]
  },
  {
   "cell_type": "code",
   "execution_count": 105,
   "metadata": {
    "id": "y36EZxnbnKGc"
   },
   "outputs": [
    {
     "name": "stdout",
     "output_type": "stream",
     "text": [
      "Memory usage of dataframe is 830.41 MB\n",
      "Memory usage after optimization is: 311.40 MB\n",
      "Decreased by 62.5%\n"
     ]
    }
   ],
   "source": [
    "installments_payments = pd.read_csv(path_data+\"/installments_payments.csv\")\n",
    "installments_payments = reduce_mem_usage(installments_payments)"
   ]
  },
  {
   "cell_type": "code",
   "execution_count": 106,
   "metadata": {
    "colab": {
     "base_uri": "https://localhost:8080/"
    },
    "id": "Twv3mQcxnKGc",
    "outputId": "1c5dcaad-19f9-4a37-f8a1-a293b4f51964"
   },
   "outputs": [
    {
     "data": {
      "text/plain": [
       "(13605401, 8)"
      ]
     },
     "execution_count": 106,
     "metadata": {},
     "output_type": "execute_result"
    }
   ],
   "source": [
    "installments_payments.shape"
   ]
  },
  {
   "cell_type": "code",
   "execution_count": 107,
   "metadata": {
    "id": "3tM2msyCnKGd"
   },
   "outputs": [],
   "source": [
    "installments_payments.drop(['NUM_INSTALMENT_VERSION','NUM_INSTALMENT_NUMBER','SK_ID_PREV'],axis=1,inplace=True)"
   ]
  },
  {
   "cell_type": "code",
   "execution_count": 108,
   "metadata": {
    "colab": {
     "base_uri": "https://localhost:8080/",
     "height": 0
    },
    "id": "sVehQ6pBnKGe",
    "outputId": "b99a2412-47e8-40e6-f2fc-ca98048d9b7a"
   },
   "outputs": [
    {
     "data": {
      "text/html": [
       "<div>\n",
       "<style scoped>\n",
       "    .dataframe tbody tr th:only-of-type {\n",
       "        vertical-align: middle;\n",
       "    }\n",
       "\n",
       "    .dataframe tbody tr th {\n",
       "        vertical-align: top;\n",
       "    }\n",
       "\n",
       "    .dataframe thead th {\n",
       "        text-align: right;\n",
       "    }\n",
       "</style>\n",
       "<table border=\"1\" class=\"dataframe\">\n",
       "  <thead>\n",
       "    <tr style=\"text-align: right;\">\n",
       "      <th></th>\n",
       "      <th>SK_ID_CURR</th>\n",
       "      <th>DAYS_INSTALMENT</th>\n",
       "      <th>DAYS_ENTRY_PAYMENT</th>\n",
       "      <th>AMT_INSTALMENT</th>\n",
       "      <th>AMT_PAYMENT</th>\n",
       "    </tr>\n",
       "  </thead>\n",
       "  <tbody>\n",
       "    <tr>\n",
       "      <th>0</th>\n",
       "      <td>161674</td>\n",
       "      <td>-1,180.00</td>\n",
       "      <td>-1,187.00</td>\n",
       "      <td>6,948.36</td>\n",
       "      <td>6,948.36</td>\n",
       "    </tr>\n",
       "    <tr>\n",
       "      <th>1</th>\n",
       "      <td>151639</td>\n",
       "      <td>-2,156.00</td>\n",
       "      <td>-2,156.00</td>\n",
       "      <td>1,716.53</td>\n",
       "      <td>1,716.53</td>\n",
       "    </tr>\n",
       "    <tr>\n",
       "      <th>2</th>\n",
       "      <td>193053</td>\n",
       "      <td>-63.00</td>\n",
       "      <td>-63.00</td>\n",
       "      <td>25,425.00</td>\n",
       "      <td>25,425.00</td>\n",
       "    </tr>\n",
       "    <tr>\n",
       "      <th>3</th>\n",
       "      <td>199697</td>\n",
       "      <td>-2,418.00</td>\n",
       "      <td>-2,426.00</td>\n",
       "      <td>24,350.13</td>\n",
       "      <td>24,350.13</td>\n",
       "    </tr>\n",
       "    <tr>\n",
       "      <th>4</th>\n",
       "      <td>167756</td>\n",
       "      <td>-1,383.00</td>\n",
       "      <td>-1,366.00</td>\n",
       "      <td>2,165.04</td>\n",
       "      <td>2,160.58</td>\n",
       "    </tr>\n",
       "    <tr>\n",
       "      <th>...</th>\n",
       "      <td>...</td>\n",
       "      <td>...</td>\n",
       "      <td>...</td>\n",
       "      <td>...</td>\n",
       "      <td>...</td>\n",
       "    </tr>\n",
       "    <tr>\n",
       "      <th>13605396</th>\n",
       "      <td>428057</td>\n",
       "      <td>-1,624.00</td>\n",
       "      <td>NaN</td>\n",
       "      <td>67.50</td>\n",
       "      <td>NaN</td>\n",
       "    </tr>\n",
       "    <tr>\n",
       "      <th>13605397</th>\n",
       "      <td>414406</td>\n",
       "      <td>-1,539.00</td>\n",
       "      <td>NaN</td>\n",
       "      <td>67.50</td>\n",
       "      <td>NaN</td>\n",
       "    </tr>\n",
       "    <tr>\n",
       "      <th>13605398</th>\n",
       "      <td>402199</td>\n",
       "      <td>-7.00</td>\n",
       "      <td>NaN</td>\n",
       "      <td>43,737.43</td>\n",
       "      <td>NaN</td>\n",
       "    </tr>\n",
       "    <tr>\n",
       "      <th>13605399</th>\n",
       "      <td>409297</td>\n",
       "      <td>-1,986.00</td>\n",
       "      <td>NaN</td>\n",
       "      <td>67.50</td>\n",
       "      <td>NaN</td>\n",
       "    </tr>\n",
       "    <tr>\n",
       "      <th>13605400</th>\n",
       "      <td>434321</td>\n",
       "      <td>-27.00</td>\n",
       "      <td>NaN</td>\n",
       "      <td>11,504.25</td>\n",
       "      <td>NaN</td>\n",
       "    </tr>\n",
       "  </tbody>\n",
       "</table>\n",
       "<p>13605401 rows × 5 columns</p>\n",
       "</div>"
      ],
      "text/plain": [
       "          SK_ID_CURR  DAYS_INSTALMENT  DAYS_ENTRY_PAYMENT  AMT_INSTALMENT  \\\n",
       "0             161674        -1,180.00           -1,187.00        6,948.36   \n",
       "1             151639        -2,156.00           -2,156.00        1,716.53   \n",
       "2             193053           -63.00              -63.00       25,425.00   \n",
       "3             199697        -2,418.00           -2,426.00       24,350.13   \n",
       "4             167756        -1,383.00           -1,366.00        2,165.04   \n",
       "...              ...              ...                 ...             ...   \n",
       "13605396      428057        -1,624.00                 NaN           67.50   \n",
       "13605397      414406        -1,539.00                 NaN           67.50   \n",
       "13605398      402199            -7.00                 NaN       43,737.43   \n",
       "13605399      409297        -1,986.00                 NaN           67.50   \n",
       "13605400      434321           -27.00                 NaN       11,504.25   \n",
       "\n",
       "          AMT_PAYMENT  \n",
       "0            6,948.36  \n",
       "1            1,716.53  \n",
       "2           25,425.00  \n",
       "3           24,350.13  \n",
       "4            2,160.58  \n",
       "...               ...  \n",
       "13605396          NaN  \n",
       "13605397          NaN  \n",
       "13605398          NaN  \n",
       "13605399          NaN  \n",
       "13605400          NaN  \n",
       "\n",
       "[13605401 rows x 5 columns]"
      ]
     },
     "execution_count": 108,
     "metadata": {},
     "output_type": "execute_result"
    }
   ],
   "source": [
    "installments_payments"
   ]
  },
  {
   "cell_type": "code",
   "execution_count": 109,
   "metadata": {
    "id": "DG-YfCYknKGf"
   },
   "outputs": [],
   "source": [
    "installments_payments = installments_payments[installments_payments['DAYS_INSTALMENT']>2*-365]"
   ]
  },
  {
   "cell_type": "code",
   "execution_count": 110,
   "metadata": {
    "colab": {
     "base_uri": "https://localhost:8080/"
    },
    "id": "5zeSGkU5nKGg",
    "outputId": "b2f4acfd-9601-45bd-965a-d6323ecbf840"
   },
   "outputs": [],
   "source": [
    "installments_payments['DAYS_INSTALMENT_delay'] = installments_payments['DAYS_ENTRY_PAYMENT']-installments_payments['DAYS_INSTALMENT']"
   ]
  },
  {
   "cell_type": "code",
   "execution_count": 111,
   "metadata": {
    "colab": {
     "base_uri": "https://localhost:8080/"
    },
    "id": "kLez3yAunKGg",
    "outputId": "caa80a57-0930-4872-9ca1-edf820c95439"
   },
   "outputs": [],
   "source": [
    "installments_payments['AMT_INSTALMENT_delta'] = installments_payments['AMT_PAYMENT']-installments_payments['AMT_INSTALMENT']"
   ]
  },
  {
   "cell_type": "code",
   "execution_count": 112,
   "metadata": {
    "colab": {
     "base_uri": "https://localhost:8080/"
    },
    "id": "mYYgBKbWnKGi",
    "outputId": "e115dec8-f139-44eb-a19b-939729d740a6"
   },
   "outputs": [],
   "source": [
    "installments_payments.drop(['DAYS_ENTRY_PAYMENT','DAYS_INSTALMENT','AMT_PAYMENT','AMT_INSTALMENT'],axis=1,inplace=True)"
   ]
  },
  {
   "cell_type": "code",
   "execution_count": 113,
   "metadata": {
    "colab": {
     "base_uri": "https://localhost:8080/",
     "height": 0
    },
    "id": "oTXLc3ERnKGi",
    "outputId": "27e365ba-39c3-4e94-bc3b-446df8605d0e"
   },
   "outputs": [
    {
     "data": {
      "text/html": [
       "<div>\n",
       "<style scoped>\n",
       "    .dataframe tbody tr th:only-of-type {\n",
       "        vertical-align: middle;\n",
       "    }\n",
       "\n",
       "    .dataframe tbody tr th {\n",
       "        vertical-align: top;\n",
       "    }\n",
       "\n",
       "    .dataframe thead th {\n",
       "        text-align: right;\n",
       "    }\n",
       "</style>\n",
       "<table border=\"1\" class=\"dataframe\">\n",
       "  <thead>\n",
       "    <tr style=\"text-align: right;\">\n",
       "      <th></th>\n",
       "      <th>SK_ID_CURR</th>\n",
       "      <th>DAYS_INSTALMENT_delay</th>\n",
       "      <th>AMT_INSTALMENT_delta</th>\n",
       "    </tr>\n",
       "  </thead>\n",
       "  <tbody>\n",
       "    <tr>\n",
       "      <th>2</th>\n",
       "      <td>193053</td>\n",
       "      <td>0.00</td>\n",
       "      <td>0.00</td>\n",
       "    </tr>\n",
       "    <tr>\n",
       "      <th>6</th>\n",
       "      <td>184693</td>\n",
       "      <td>-3.00</td>\n",
       "      <td>0.00</td>\n",
       "    </tr>\n",
       "    <tr>\n",
       "      <th>8</th>\n",
       "      <td>112102</td>\n",
       "      <td>0.00</td>\n",
       "      <td>0.00</td>\n",
       "    </tr>\n",
       "    <tr>\n",
       "      <th>9</th>\n",
       "      <td>109741</td>\n",
       "      <td>-39.00</td>\n",
       "      <td>0.00</td>\n",
       "    </tr>\n",
       "    <tr>\n",
       "      <th>16</th>\n",
       "      <td>170192</td>\n",
       "      <td>-3.00</td>\n",
       "      <td>0.00</td>\n",
       "    </tr>\n",
       "    <tr>\n",
       "      <th>...</th>\n",
       "      <td>...</td>\n",
       "      <td>...</td>\n",
       "      <td>...</td>\n",
       "    </tr>\n",
       "    <tr>\n",
       "      <th>13605390</th>\n",
       "      <td>450349</td>\n",
       "      <td>NaN</td>\n",
       "      <td>NaN</td>\n",
       "    </tr>\n",
       "    <tr>\n",
       "      <th>13605391</th>\n",
       "      <td>418486</td>\n",
       "      <td>NaN</td>\n",
       "      <td>NaN</td>\n",
       "    </tr>\n",
       "    <tr>\n",
       "      <th>13605392</th>\n",
       "      <td>434321</td>\n",
       "      <td>NaN</td>\n",
       "      <td>NaN</td>\n",
       "    </tr>\n",
       "    <tr>\n",
       "      <th>13605398</th>\n",
       "      <td>402199</td>\n",
       "      <td>NaN</td>\n",
       "      <td>NaN</td>\n",
       "    </tr>\n",
       "    <tr>\n",
       "      <th>13605400</th>\n",
       "      <td>434321</td>\n",
       "      <td>NaN</td>\n",
       "      <td>NaN</td>\n",
       "    </tr>\n",
       "  </tbody>\n",
       "</table>\n",
       "<p>6278712 rows × 3 columns</p>\n",
       "</div>"
      ],
      "text/plain": [
       "          SK_ID_CURR  DAYS_INSTALMENT_delay  AMT_INSTALMENT_delta\n",
       "2             193053                   0.00                  0.00\n",
       "6             184693                  -3.00                  0.00\n",
       "8             112102                   0.00                  0.00\n",
       "9             109741                 -39.00                  0.00\n",
       "16            170192                  -3.00                  0.00\n",
       "...              ...                    ...                   ...\n",
       "13605390      450349                    NaN                   NaN\n",
       "13605391      418486                    NaN                   NaN\n",
       "13605392      434321                    NaN                   NaN\n",
       "13605398      402199                    NaN                   NaN\n",
       "13605400      434321                    NaN                   NaN\n",
       "\n",
       "[6278712 rows x 3 columns]"
      ]
     },
     "execution_count": 113,
     "metadata": {},
     "output_type": "execute_result"
    }
   ],
   "source": [
    "installments_payments"
   ]
  },
  {
   "cell_type": "code",
   "execution_count": 114,
   "metadata": {
    "id": "5SCtEDKenKGj"
   },
   "outputs": [],
   "source": [
    "installments_payments_grouped = installments_payments.groupby(['SK_ID_CURR']).agg({'DAYS_INSTALMENT_delay':'mean','AMT_INSTALMENT_delta':'mean'})"
   ]
  },
  {
   "cell_type": "code",
   "execution_count": 115,
   "metadata": {
    "id": "DHkfUKvonKGk"
   },
   "outputs": [],
   "source": [
    "installments_payments_grouped.reset_index(inplace=True)"
   ]
  },
  {
   "cell_type": "code",
   "execution_count": 116,
   "metadata": {
    "colab": {
     "base_uri": "https://localhost:8080/",
     "height": 0
    },
    "id": "rGpDYw8WnKGl",
    "outputId": "396b256a-d959-4838-93c2-2b3a9cd00120"
   },
   "outputs": [
    {
     "data": {
      "text/html": [
       "<div>\n",
       "<style scoped>\n",
       "    .dataframe tbody tr th:only-of-type {\n",
       "        vertical-align: middle;\n",
       "    }\n",
       "\n",
       "    .dataframe tbody tr th {\n",
       "        vertical-align: top;\n",
       "    }\n",
       "\n",
       "    .dataframe thead th {\n",
       "        text-align: right;\n",
       "    }\n",
       "</style>\n",
       "<table border=\"1\" class=\"dataframe\">\n",
       "  <thead>\n",
       "    <tr style=\"text-align: right;\">\n",
       "      <th></th>\n",
       "      <th>SK_ID_CURR</th>\n",
       "      <th>DAYS_INSTALMENT_delay</th>\n",
       "      <th>AMT_INSTALMENT_delta</th>\n",
       "    </tr>\n",
       "  </thead>\n",
       "  <tbody>\n",
       "    <tr>\n",
       "      <th>0</th>\n",
       "      <td>100002</td>\n",
       "      <td>-20.42</td>\n",
       "      <td>0.00</td>\n",
       "    </tr>\n",
       "    <tr>\n",
       "      <th>1</th>\n",
       "      <td>100003</td>\n",
       "      <td>-7.00</td>\n",
       "      <td>0.00</td>\n",
       "    </tr>\n",
       "    <tr>\n",
       "      <th>2</th>\n",
       "      <td>100004</td>\n",
       "      <td>-3.00</td>\n",
       "      <td>0.00</td>\n",
       "    </tr>\n",
       "    <tr>\n",
       "      <th>3</th>\n",
       "      <td>100005</td>\n",
       "      <td>-23.56</td>\n",
       "      <td>0.00</td>\n",
       "    </tr>\n",
       "    <tr>\n",
       "      <th>4</th>\n",
       "      <td>100006</td>\n",
       "      <td>-19.38</td>\n",
       "      <td>0.00</td>\n",
       "    </tr>\n",
       "    <tr>\n",
       "      <th>...</th>\n",
       "      <td>...</td>\n",
       "      <td>...</td>\n",
       "      <td>...</td>\n",
       "    </tr>\n",
       "    <tr>\n",
       "      <th>293763</th>\n",
       "      <td>456248</td>\n",
       "      <td>-8.96</td>\n",
       "      <td>0.00</td>\n",
       "    </tr>\n",
       "    <tr>\n",
       "      <th>293764</th>\n",
       "      <td>456250</td>\n",
       "      <td>-7.43</td>\n",
       "      <td>-219.41</td>\n",
       "    </tr>\n",
       "    <tr>\n",
       "      <th>293765</th>\n",
       "      <td>456251</td>\n",
       "      <td>-36.28</td>\n",
       "      <td>0.00</td>\n",
       "    </tr>\n",
       "    <tr>\n",
       "      <th>293766</th>\n",
       "      <td>456254</td>\n",
       "      <td>-19.00</td>\n",
       "      <td>0.00</td>\n",
       "    </tr>\n",
       "    <tr>\n",
       "      <th>293767</th>\n",
       "      <td>456255</td>\n",
       "      <td>-8.20</td>\n",
       "      <td>-3,309.70</td>\n",
       "    </tr>\n",
       "  </tbody>\n",
       "</table>\n",
       "<p>293768 rows × 3 columns</p>\n",
       "</div>"
      ],
      "text/plain": [
       "        SK_ID_CURR  DAYS_INSTALMENT_delay  AMT_INSTALMENT_delta\n",
       "0           100002                 -20.42                  0.00\n",
       "1           100003                  -7.00                  0.00\n",
       "2           100004                  -3.00                  0.00\n",
       "3           100005                 -23.56                  0.00\n",
       "4           100006                 -19.38                  0.00\n",
       "...            ...                    ...                   ...\n",
       "293763      456248                  -8.96                  0.00\n",
       "293764      456250                  -7.43               -219.41\n",
       "293765      456251                 -36.28                  0.00\n",
       "293766      456254                 -19.00                  0.00\n",
       "293767      456255                  -8.20             -3,309.70\n",
       "\n",
       "[293768 rows x 3 columns]"
      ]
     },
     "execution_count": 116,
     "metadata": {},
     "output_type": "execute_result"
    }
   ],
   "source": [
    "installments_payments_grouped"
   ]
  },
  {
   "cell_type": "code",
   "execution_count": 117,
   "metadata": {
    "colab": {
     "base_uri": "https://localhost:8080/"
    },
    "id": "5-khtsrQnKGm",
    "outputId": "6172760a-e394-4720-ce26-ad83e4cfc78e"
   },
   "outputs": [
    {
     "data": {
      "text/plain": [
       "317"
      ]
     },
     "execution_count": 117,
     "metadata": {},
     "output_type": "execute_result"
    }
   ],
   "source": [
    "gc.enable()\n",
    "del installments_payments\n",
    "gc.collect()"
   ]
  },
  {
   "cell_type": "markdown",
   "metadata": {
    "id": "Bpt0voC0nKGn"
   },
   "source": [
    "## previous_application "
   ]
  },
  {
   "cell_type": "code",
   "execution_count": 118,
   "metadata": {
    "id": "8_sckcXenKGn"
   },
   "outputs": [
    {
     "name": "stdout",
     "output_type": "stream",
     "text": [
      "Memory usage of dataframe is 471.48 MB\n",
      "Memory usage after optimization is: 130.62 MB\n",
      "Decreased by 72.3%\n"
     ]
    }
   ],
   "source": [
    "previous_application = pd.read_csv(path_data+\"/previous_application.csv\")\n",
    "previous_application = reduce_mem_usage(previous_application)"
   ]
  },
  {
   "cell_type": "code",
   "execution_count": 119,
   "metadata": {
    "colab": {
     "base_uri": "https://localhost:8080/"
    },
    "id": "qKMXU0DGnKGq",
    "outputId": "cc723a70-bf45-43fa-c7eb-7f8c69bdc1a7"
   },
   "outputs": [
    {
     "data": {
      "text/plain": [
       "Index(['SK_ID_CURR', 'NAME_CONTRACT_TYPE', 'AMT_CREDIT', 'NAME_TYPE_SUITE',\n",
       "       'WEEKDAY_APPR_PROCESS_START', 'HOUR_APPR_PROCESS_START'],\n",
       "      dtype='object')"
      ]
     },
     "execution_count": 119,
     "metadata": {},
     "output_type": "execute_result"
    }
   ],
   "source": [
    "df_final.columns[df_final.columns.isin(previous_application.columns)]"
   ]
  },
  {
   "cell_type": "code",
   "execution_count": 120,
   "metadata": {
    "colab": {
     "base_uri": "https://localhost:8080/"
    },
    "id": "6xb21rMFnKGr",
    "outputId": "9b4c0cd5-2ecb-4768-f245-7dcf8e2e25c8"
   },
   "outputs": [
    {
     "data": {
      "text/plain": [
       "(1670214, 37)"
      ]
     },
     "execution_count": 120,
     "metadata": {},
     "output_type": "execute_result"
    }
   ],
   "source": [
    "previous_application.shape"
   ]
  },
  {
   "cell_type": "code",
   "execution_count": 121,
   "metadata": {
    "id": "aCtuuBIWnKGs"
   },
   "outputs": [],
   "source": [
    "previous_application_drop_list = ['SK_ID_PREV','AMT_APPLICATION', 'AMT_GOODS_PRICE',\n",
    "       'WEEKDAY_APPR_PROCESS_START', 'HOUR_APPR_PROCESS_START',\n",
    "       'FLAG_LAST_APPL_PER_CONTRACT', 'NFLAG_LAST_APPL_IN_DAY',\n",
    "       'RATE_DOWN_PAYMENT', 'RATE_INTEREST_PRIMARY',\n",
    "       'RATE_INTEREST_PRIVILEGED', 'NAME_CASH_LOAN_PURPOSE',\n",
    "       'NAME_PAYMENT_TYPE', 'NAME_CONTRACT_TYPE',\n",
    "       'NAME_TYPE_SUITE', \n",
    "       'NAME_GOODS_CATEGORY', 'NAME_PORTFOLIO', 'NAME_PRODUCT_TYPE',\n",
    "       'CHANNEL_TYPE', 'SELLERPLACE_AREA', 'NAME_SELLER_INDUSTRY',\n",
    "        'NAME_YIELD_GROUP', 'PRODUCT_COMBINATION',\n",
    "        'DAYS_FIRST_DUE', 'DAYS_LAST_DUE_1ST_VERSION',\n",
    "       'NFLAG_INSURED_ON_APPROVAL']"
   ]
  },
  {
   "cell_type": "code",
   "execution_count": 122,
   "metadata": {
    "id": "PAJyfFRbnKGt"
   },
   "outputs": [],
   "source": [
    "previous_application.drop(previous_application_drop_list,axis=1,inplace=True)"
   ]
  },
  {
   "cell_type": "code",
   "execution_count": 123,
   "metadata": {
    "colab": {
     "base_uri": "https://localhost:8080/"
    },
    "id": "sB_0RCDtnKGu",
    "outputId": "0ca2c832-4bc9-43d6-955f-393c5a97103c"
   },
   "outputs": [
    {
     "data": {
      "text/plain": [
       "(1670214, 12)"
      ]
     },
     "execution_count": 123,
     "metadata": {},
     "output_type": "execute_result"
    }
   ],
   "source": [
    "previous_application.shape"
   ]
  },
  {
   "cell_type": "code",
   "execution_count": 124,
   "metadata": {
    "colab": {
     "base_uri": "https://localhost:8080/",
     "height": 0
    },
    "id": "sRWU-Lm0nKGu",
    "outputId": "7c47a3b3-2b22-4b6c-e80a-9286a7cbb6da"
   },
   "outputs": [
    {
     "data": {
      "text/html": [
       "<div>\n",
       "<style scoped>\n",
       "    .dataframe tbody tr th:only-of-type {\n",
       "        vertical-align: middle;\n",
       "    }\n",
       "\n",
       "    .dataframe tbody tr th {\n",
       "        vertical-align: top;\n",
       "    }\n",
       "\n",
       "    .dataframe thead th {\n",
       "        text-align: right;\n",
       "    }\n",
       "</style>\n",
       "<table border=\"1\" class=\"dataframe\">\n",
       "  <thead>\n",
       "    <tr style=\"text-align: right;\">\n",
       "      <th></th>\n",
       "      <th>SK_ID_CURR</th>\n",
       "      <th>AMT_ANNUITY</th>\n",
       "      <th>AMT_CREDIT</th>\n",
       "      <th>AMT_DOWN_PAYMENT</th>\n",
       "      <th>NAME_CONTRACT_STATUS</th>\n",
       "      <th>DAYS_DECISION</th>\n",
       "      <th>CODE_REJECT_REASON</th>\n",
       "      <th>NAME_CLIENT_TYPE</th>\n",
       "      <th>CNT_PAYMENT</th>\n",
       "      <th>DAYS_FIRST_DRAWING</th>\n",
       "      <th>DAYS_LAST_DUE</th>\n",
       "      <th>DAYS_TERMINATION</th>\n",
       "    </tr>\n",
       "  </thead>\n",
       "  <tbody>\n",
       "    <tr>\n",
       "      <th>0</th>\n",
       "      <td>271877</td>\n",
       "      <td>1,730.43</td>\n",
       "      <td>17,145.00</td>\n",
       "      <td>0.00</td>\n",
       "      <td>Approved</td>\n",
       "      <td>-73</td>\n",
       "      <td>XAP</td>\n",
       "      <td>Repeater</td>\n",
       "      <td>12.00</td>\n",
       "      <td>365,243.00</td>\n",
       "      <td>-42.00</td>\n",
       "      <td>-37.00</td>\n",
       "    </tr>\n",
       "    <tr>\n",
       "      <th>1</th>\n",
       "      <td>108129</td>\n",
       "      <td>25,188.62</td>\n",
       "      <td>679,671.00</td>\n",
       "      <td>NaN</td>\n",
       "      <td>Approved</td>\n",
       "      <td>-164</td>\n",
       "      <td>XAP</td>\n",
       "      <td>Repeater</td>\n",
       "      <td>36.00</td>\n",
       "      <td>365,243.00</td>\n",
       "      <td>365,243.00</td>\n",
       "      <td>365,243.00</td>\n",
       "    </tr>\n",
       "    <tr>\n",
       "      <th>2</th>\n",
       "      <td>122040</td>\n",
       "      <td>15,060.74</td>\n",
       "      <td>136,444.50</td>\n",
       "      <td>NaN</td>\n",
       "      <td>Approved</td>\n",
       "      <td>-301</td>\n",
       "      <td>XAP</td>\n",
       "      <td>Repeater</td>\n",
       "      <td>12.00</td>\n",
       "      <td>365,243.00</td>\n",
       "      <td>365,243.00</td>\n",
       "      <td>365,243.00</td>\n",
       "    </tr>\n",
       "  </tbody>\n",
       "</table>\n",
       "</div>"
      ],
      "text/plain": [
       "   SK_ID_CURR  AMT_ANNUITY  AMT_CREDIT  AMT_DOWN_PAYMENT NAME_CONTRACT_STATUS  \\\n",
       "0      271877     1,730.43   17,145.00              0.00             Approved   \n",
       "1      108129    25,188.62  679,671.00               NaN             Approved   \n",
       "2      122040    15,060.74  136,444.50               NaN             Approved   \n",
       "\n",
       "   DAYS_DECISION CODE_REJECT_REASON NAME_CLIENT_TYPE  CNT_PAYMENT  \\\n",
       "0            -73                XAP         Repeater        12.00   \n",
       "1           -164                XAP         Repeater        36.00   \n",
       "2           -301                XAP         Repeater        12.00   \n",
       "\n",
       "   DAYS_FIRST_DRAWING  DAYS_LAST_DUE  DAYS_TERMINATION  \n",
       "0          365,243.00         -42.00            -37.00  \n",
       "1          365,243.00     365,243.00        365,243.00  \n",
       "2          365,243.00     365,243.00        365,243.00  "
      ]
     },
     "execution_count": 124,
     "metadata": {},
     "output_type": "execute_result"
    }
   ],
   "source": [
    "previous_application.head(3)"
   ]
  },
  {
   "cell_type": "code",
   "execution_count": 125,
   "metadata": {
    "colab": {
     "base_uri": "https://localhost:8080/",
     "height": 0
    },
    "id": "C2EZ3-ponKGw",
    "outputId": "121455e2-343a-47c1-ee56-3f2775617ff8"
   },
   "outputs": [
    {
     "data": {
      "text/html": [
       "<div>\n",
       "<style scoped>\n",
       "    .dataframe tbody tr th:only-of-type {\n",
       "        vertical-align: middle;\n",
       "    }\n",
       "\n",
       "    .dataframe tbody tr th {\n",
       "        vertical-align: top;\n",
       "    }\n",
       "\n",
       "    .dataframe thead th {\n",
       "        text-align: right;\n",
       "    }\n",
       "</style>\n",
       "<table border=\"1\" class=\"dataframe\">\n",
       "  <thead>\n",
       "    <tr style=\"text-align: right;\">\n",
       "      <th></th>\n",
       "      <th>SK_ID_CURR</th>\n",
       "      <th>AMT_ANNUITY</th>\n",
       "      <th>AMT_CREDIT</th>\n",
       "      <th>AMT_DOWN_PAYMENT</th>\n",
       "      <th>NAME_CONTRACT_STATUS</th>\n",
       "      <th>DAYS_DECISION</th>\n",
       "      <th>CODE_REJECT_REASON</th>\n",
       "      <th>NAME_CLIENT_TYPE</th>\n",
       "      <th>CNT_PAYMENT</th>\n",
       "      <th>DAYS_FIRST_DRAWING</th>\n",
       "      <th>DAYS_LAST_DUE</th>\n",
       "      <th>DAYS_TERMINATION</th>\n",
       "    </tr>\n",
       "  </thead>\n",
       "  <tbody>\n",
       "    <tr>\n",
       "      <th>2</th>\n",
       "      <td>122040</td>\n",
       "      <td>15,060.74</td>\n",
       "      <td>136,444.50</td>\n",
       "      <td>NaN</td>\n",
       "      <td>Approved</td>\n",
       "      <td>-301</td>\n",
       "      <td>XAP</td>\n",
       "      <td>Repeater</td>\n",
       "      <td>12.00</td>\n",
       "      <td>365,243.00</td>\n",
       "      <td>365,243.00</td>\n",
       "      <td>365,243.00</td>\n",
       "    </tr>\n",
       "    <tr>\n",
       "      <th>86475</th>\n",
       "      <td>122040</td>\n",
       "      <td>6,300.00</td>\n",
       "      <td>90,000.00</td>\n",
       "      <td>9,571.50</td>\n",
       "      <td>Approved</td>\n",
       "      <td>-2405</td>\n",
       "      <td>XAP</td>\n",
       "      <td>Repeater</td>\n",
       "      <td>0.00</td>\n",
       "      <td>-2,405.00</td>\n",
       "      <td>-1,847.00</td>\n",
       "      <td>365,243.00</td>\n",
       "    </tr>\n",
       "    <tr>\n",
       "      <th>561217</th>\n",
       "      <td>122040</td>\n",
       "      <td>7,508.61</td>\n",
       "      <td>64,341.00</td>\n",
       "      <td>0.00</td>\n",
       "      <td>Approved</td>\n",
       "      <td>-2576</td>\n",
       "      <td>XAP</td>\n",
       "      <td>Repeater</td>\n",
       "      <td>12.00</td>\n",
       "      <td>365,243.00</td>\n",
       "      <td>-2,425.00</td>\n",
       "      <td>-2,417.00</td>\n",
       "    </tr>\n",
       "    <tr>\n",
       "      <th>1536362</th>\n",
       "      <td>122040</td>\n",
       "      <td>NaN</td>\n",
       "      <td>0.00</td>\n",
       "      <td>NaN</td>\n",
       "      <td>Canceled</td>\n",
       "      <td>-301</td>\n",
       "      <td>XAP</td>\n",
       "      <td>Repeater</td>\n",
       "      <td>NaN</td>\n",
       "      <td>NaN</td>\n",
       "      <td>NaN</td>\n",
       "      <td>NaN</td>\n",
       "    </tr>\n",
       "  </tbody>\n",
       "</table>\n",
       "</div>"
      ],
      "text/plain": [
       "         SK_ID_CURR  AMT_ANNUITY  AMT_CREDIT  AMT_DOWN_PAYMENT  \\\n",
       "2            122040    15,060.74  136,444.50               NaN   \n",
       "86475        122040     6,300.00   90,000.00          9,571.50   \n",
       "561217       122040     7,508.61   64,341.00              0.00   \n",
       "1536362      122040          NaN        0.00               NaN   \n",
       "\n",
       "        NAME_CONTRACT_STATUS  DAYS_DECISION CODE_REJECT_REASON  \\\n",
       "2                   Approved           -301                XAP   \n",
       "86475               Approved          -2405                XAP   \n",
       "561217              Approved          -2576                XAP   \n",
       "1536362             Canceled           -301                XAP   \n",
       "\n",
       "        NAME_CLIENT_TYPE  CNT_PAYMENT  DAYS_FIRST_DRAWING  DAYS_LAST_DUE  \\\n",
       "2               Repeater        12.00          365,243.00     365,243.00   \n",
       "86475           Repeater         0.00           -2,405.00      -1,847.00   \n",
       "561217          Repeater        12.00          365,243.00      -2,425.00   \n",
       "1536362         Repeater          NaN                 NaN            NaN   \n",
       "\n",
       "         DAYS_TERMINATION  \n",
       "2              365,243.00  \n",
       "86475          365,243.00  \n",
       "561217          -2,417.00  \n",
       "1536362               NaN  "
      ]
     },
     "execution_count": 125,
     "metadata": {},
     "output_type": "execute_result"
    }
   ],
   "source": [
    "previous_application[previous_application['SK_ID_CURR']==122040]"
   ]
  },
  {
   "cell_type": "code",
   "execution_count": 126,
   "metadata": {
    "colab": {
     "base_uri": "https://localhost:8080/"
    },
    "id": "_YwHdNrknKGx",
    "outputId": "5915a714-4cd0-47b6-c2e1-52b8f89a3286"
   },
   "outputs": [
    {
     "data": {
      "text/plain": [
       "Index(['SK_ID_CURR', 'AMT_ANNUITY', 'AMT_CREDIT', 'AMT_DOWN_PAYMENT',\n",
       "       'NAME_CONTRACT_STATUS', 'DAYS_DECISION', 'CODE_REJECT_REASON',\n",
       "       'NAME_CLIENT_TYPE', 'CNT_PAYMENT', 'DAYS_FIRST_DRAWING',\n",
       "       'DAYS_LAST_DUE', 'DAYS_TERMINATION'],\n",
       "      dtype='object')"
      ]
     },
     "execution_count": 126,
     "metadata": {},
     "output_type": "execute_result"
    }
   ],
   "source": [
    "previous_application.columns"
   ]
  },
  {
   "cell_type": "code",
   "execution_count": 127,
   "metadata": {
    "id": "RrbCjVzFnKGy"
   },
   "outputs": [],
   "source": [
    "previous_application_num_col =  ['AMT_ANNUITY', 'AMT_CREDIT', 'AMT_DOWN_PAYMENT','DAYS_DECISION','CNT_PAYMENT', 'DAYS_FIRST_DRAWING',\n",
    "       'DAYS_LAST_DUE', 'DAYS_TERMINATION']\n",
    "previous_application_cat_col = ['NAME_CONTRACT_STATUS','CODE_REJECT_REASON','NAME_CLIENT_TYPE']\n"
   ]
  },
  {
   "cell_type": "code",
   "execution_count": 128,
   "metadata": {
    "id": "vjcKSlWXnKGy"
   },
   "outputs": [],
   "source": [
    "l ={}\n",
    "for c in previous_application_num_col:\n",
    "    l.update({c: 'mean'})\n",
    "\n",
    "for c in previous_application_cat_col:\n",
    "    l.update({c: lambda x:x.value_counts().index[0]})"
   ]
  },
  {
   "cell_type": "code",
   "execution_count": 129,
   "metadata": {
    "id": "5cLvlRhznKGz"
   },
   "outputs": [],
   "source": [
    "previous_application_grouped = previous_application.groupby(['SK_ID_CURR']).agg(l)"
   ]
  },
  {
   "cell_type": "code",
   "execution_count": 130,
   "metadata": {
    "id": "SBQv7_7UnKG0"
   },
   "outputs": [],
   "source": [
    "previous_application_grouped.reset_index(inplace=True)"
   ]
  },
  {
   "cell_type": "code",
   "execution_count": null,
   "metadata": {
    "id": "gdgcqNX6nKG1"
   },
   "outputs": [],
   "source": []
  },
  {
   "cell_type": "code",
   "execution_count": 131,
   "metadata": {
    "colab": {
     "base_uri": "https://localhost:8080/"
    },
    "id": "_tQsr8-anKG1",
    "outputId": "4ed931f9-043c-49c5-b2a2-4b07dd45d2a0"
   },
   "outputs": [
    {
     "data": {
      "text/plain": [
       "0"
      ]
     },
     "execution_count": 131,
     "metadata": {},
     "output_type": "execute_result"
    }
   ],
   "source": [
    "gc.enable()\n",
    "del previous_application\n",
    "gc.collect()"
   ]
  },
  {
   "cell_type": "markdown",
   "metadata": {
    "id": "-OwDHEo2nKG2"
   },
   "source": [
    "## POS_CASH_balance.csv"
   ]
  },
  {
   "cell_type": "code",
   "execution_count": 132,
   "metadata": {
    "id": "XaojabcrnKG3"
   },
   "outputs": [
    {
     "name": "stdout",
     "output_type": "stream",
     "text": [
      "Memory usage of dataframe is 610.43 MB\n",
      "Memory usage after optimization is: 171.69 MB\n",
      "Decreased by 71.9%\n"
     ]
    }
   ],
   "source": [
    "POS_CASH_balance = pd.read_csv(path_data+\"/POS_CASH_balance.csv\")\n",
    "POS_CASH_balance = reduce_mem_usage(POS_CASH_balance)"
   ]
  },
  {
   "cell_type": "code",
   "execution_count": 133,
   "metadata": {
    "colab": {
     "base_uri": "https://localhost:8080/"
    },
    "id": "n89AJ-MunKG3",
    "outputId": "54f0d3ae-80b3-4ddb-f4b3-04fd397b486e"
   },
   "outputs": [
    {
     "data": {
      "text/plain": [
       "(10001358, 8)"
      ]
     },
     "execution_count": 133,
     "metadata": {},
     "output_type": "execute_result"
    }
   ],
   "source": [
    "POS_CASH_balance.shape"
   ]
  },
  {
   "cell_type": "code",
   "execution_count": 134,
   "metadata": {
    "id": "ag9Iv8iwnKG4"
   },
   "outputs": [],
   "source": [
    "POS_CASH_balance = POS_CASH_balance[POS_CASH_balance['MONTHS_BALANCE']>-25]"
   ]
  },
  {
   "cell_type": "code",
   "execution_count": 135,
   "metadata": {
    "colab": {
     "base_uri": "https://localhost:8080/"
    },
    "id": "1uB98QzGnKG5",
    "outputId": "78956cfb-ac7d-4b64-d8de-782016a0793b"
   },
   "outputs": [
    {
     "data": {
      "text/plain": [
       "(4570126, 8)"
      ]
     },
     "execution_count": 135,
     "metadata": {},
     "output_type": "execute_result"
    }
   ],
   "source": [
    "POS_CASH_balance.shape"
   ]
  },
  {
   "cell_type": "code",
   "execution_count": 136,
   "metadata": {
    "colab": {
     "base_uri": "https://localhost:8080/"
    },
    "id": "vne0TCHvnKG6",
    "outputId": "ee82e359-3709-4ea9-f388-61ea2d5320bc"
   },
   "outputs": [],
   "source": [
    "POS_CASH_balance.drop(['CNT_INSTALMENT','SK_DPD_DEF','NAME_CONTRACT_STATUS','MONTHS_BALANCE','SK_ID_PREV'],axis=1,inplace=True)"
   ]
  },
  {
   "cell_type": "code",
   "execution_count": 139,
   "metadata": {
    "colab": {
     "base_uri": "https://localhost:8080/"
    },
    "id": "ARRad9fFnKG6",
    "outputId": "cbc4e7af-9e60-482c-ceee-41db1eb993d3"
   },
   "outputs": [
    {
     "data": {
      "text/plain": [
       "(4570126, 3)"
      ]
     },
     "execution_count": 139,
     "metadata": {},
     "output_type": "execute_result"
    }
   ],
   "source": [
    "POS_CASH_balance.shape"
   ]
  },
  {
   "cell_type": "code",
   "execution_count": 140,
   "metadata": {
    "id": "Z65F7RnAnKG7"
   },
   "outputs": [],
   "source": [
    "POS_CASH_balance_grouped = POS_CASH_balance.groupby(['SK_ID_CURR']).agg({'CNT_INSTALMENT_FUTURE':'mean','SK_DPD':'mean'})"
   ]
  },
  {
   "cell_type": "code",
   "execution_count": 141,
   "metadata": {
    "id": "LduNP5PxnKG8"
   },
   "outputs": [],
   "source": [
    "POS_CASH_balance_grouped.reset_index(inplace=True)"
   ]
  },
  {
   "cell_type": "code",
   "execution_count": 142,
   "metadata": {
    "colab": {
     "base_uri": "https://localhost:8080/"
    },
    "id": "V2BXOM7rnKG8",
    "outputId": "a076d173-0327-417b-85cc-bd8315da648f"
   },
   "outputs": [
    {
     "data": {
      "text/plain": [
       "(286498, 3)"
      ]
     },
     "execution_count": 142,
     "metadata": {},
     "output_type": "execute_result"
    }
   ],
   "source": [
    "POS_CASH_balance_grouped.shape"
   ]
  },
  {
   "cell_type": "code",
   "execution_count": 143,
   "metadata": {
    "colab": {
     "base_uri": "https://localhost:8080/"
    },
    "id": "VcC0QivNnKG9",
    "outputId": "f8dded70-a782-4967-a0a6-e59a1eb3b77a"
   },
   "outputs": [
    {
     "data": {
      "text/plain": [
       "0"
      ]
     },
     "execution_count": 143,
     "metadata": {},
     "output_type": "execute_result"
    }
   ],
   "source": [
    "gc.enable()\n",
    "del POS_CASH_balance\n",
    "gc.collect()"
   ]
  },
  {
   "cell_type": "code",
   "execution_count": null,
   "metadata": {
    "id": "nl_OWQqunKG-"
   },
   "outputs": [],
   "source": []
  },
  {
   "cell_type": "markdown",
   "metadata": {
    "id": "t2dWS_3vnKG-"
   },
   "source": [
    "## Merge (data final)"
   ]
  },
  {
   "cell_type": "code",
   "execution_count": 144,
   "metadata": {
    "id": "El8GcKx5nKG_"
   },
   "outputs": [],
   "source": [
    "df_final = df_final.merge(bureau_grouped, on = 'SK_ID_CURR', how = 'left')"
   ]
  },
  {
   "cell_type": "code",
   "execution_count": 145,
   "metadata": {
    "id": "nJZ08VrenKHA"
   },
   "outputs": [],
   "source": [
    "df_final = df_final.merge(credit_card_balance_grouped, on = 'SK_ID_CURR', how = 'left')"
   ]
  },
  {
   "cell_type": "code",
   "execution_count": 146,
   "metadata": {
    "id": "wKsecSBtnKHA"
   },
   "outputs": [],
   "source": [
    "df_final = df_final.merge(installments_payments_grouped, on = 'SK_ID_CURR', how = 'left')"
   ]
  },
  {
   "cell_type": "code",
   "execution_count": 147,
   "metadata": {
    "id": "2hN1NALhnKHB"
   },
   "outputs": [],
   "source": [
    "df_final = df_final.merge(previous_application_grouped, on = 'SK_ID_CURR', how = 'left')"
   ]
  },
  {
   "cell_type": "code",
   "execution_count": 148,
   "metadata": {
    "id": "afEhggB3nKHB"
   },
   "outputs": [],
   "source": [
    "df_final = df_final.merge(POS_CASH_balance_grouped, on = 'SK_ID_CURR', how = 'left')"
   ]
  },
  {
   "cell_type": "code",
   "execution_count": 149,
   "metadata": {
    "colab": {
     "base_uri": "https://localhost:8080/"
    },
    "id": "xxkjFExfnKHG",
    "outputId": "8b76da45-b97d-44ee-d8e5-bb9a616be5db"
   },
   "outputs": [
    {
     "data": {
      "text/plain": [
       "(307511, 48)"
      ]
     },
     "execution_count": 149,
     "metadata": {},
     "output_type": "execute_result"
    }
   ],
   "source": [
    "df_final.shape"
   ]
  },
  {
   "cell_type": "code",
   "execution_count": 150,
   "metadata": {
    "colab": {
     "base_uri": "https://localhost:8080/"
    },
    "id": "Xds79ilCnKHH",
    "outputId": "6db1682d-a188-4f02-a882-58558f808ac8"
   },
   "outputs": [
    {
     "data": {
      "text/plain": [
       "Index(['NAME_CONTRACT_TYPE', 'CODE_GENDER', 'NAME_TYPE_SUITE',\n",
       "       'NAME_INCOME_TYPE', 'NAME_EDUCATION_TYPE', 'NAME_FAMILY_STATUS',\n",
       "       'OCCUPATION_TYPE', 'WEEKDAY_APPR_PROCESS_START', 'CREDIT_ACTIVE',\n",
       "       'NAME_CONTRACT_STATUS', 'CODE_REJECT_REASON', 'NAME_CLIENT_TYPE'],\n",
       "      dtype='object')"
      ]
     },
     "execution_count": 150,
     "metadata": {},
     "output_type": "execute_result"
    }
   ],
   "source": [
    "df_final.select_dtypes(exclude= np.number).columns"
   ]
  },
  {
   "cell_type": "code",
   "execution_count": 151,
   "metadata": {
    "colab": {
     "base_uri": "https://localhost:8080/"
    },
    "id": "Yheflf02nKHI",
    "outputId": "7405c086-7073-41d7-c5c9-270060d05494"
   },
   "outputs": [
    {
     "name": "stdout",
     "output_type": "stream",
     "text": [
      "['Cash loans', 'Revolving loans']\n",
      "Categories (2, object): ['Cash loans', 'Revolving loans']\n",
      "['M', 'F', 'XNA']\n",
      "Categories (3, object): ['F', 'M', 'XNA']\n",
      "['Unaccompanied', 'Family', 'Spouse, partner', 'Children', 'Other_A', NaN, 'Other_B', 'Group of people']\n",
      "Categories (7, object): ['Children', 'Family', 'Group of people', 'Other_A', 'Other_B', 'Spouse, partner', 'Unaccompanied']\n",
      "['working', 'not_working']\n",
      "Categories (2, object): ['not_working', 'working']\n",
      "['low_educ', 'high_educ']\n",
      "Categories (2, object): ['high_educ', 'low_educ']\n",
      "['not_married', 'married', 'other']\n",
      "Categories (3, object): ['married', 'not_married', 'other']\n",
      "['other', NaN, 'Low-skill Laborers']\n",
      "Categories (2, object): ['other', 'Low-skill Laborers']\n",
      "['WEDNESDAY', 'MONDAY', 'THURSDAY', 'SUNDAY', 'SATURDAY', 'FRIDAY', 'TUESDAY']\n",
      "Categories (7, object): ['FRIDAY', 'MONDAY', 'SATURDAY', 'SUNDAY', 'THURSDAY', 'TUESDAY', 'WEDNESDAY']\n",
      "['Closed' nan 'Active' 'Sold']\n",
      "['Approved' nan 'Refused' 'Canceled' 'Unused offer']\n",
      "['XAP' nan 'LIMIT' 'SCO' 'HC' 'VERIF' 'CLIENT' 'SCOFR' 'XNA' 'SYSTEM']\n",
      "['New' 'Refreshed' 'Repeater' nan 'XNA']\n"
     ]
    }
   ],
   "source": [
    "for c in (df_final.select_dtypes(exclude= np.number).columns):\n",
    "    print (df_final[c].unique())\n",
    "    "
   ]
  },
  {
   "cell_type": "code",
   "execution_count": 152,
   "metadata": {
    "id": "iLV-veAgnKHM"
   },
   "outputs": [],
   "source": [
    "df_final.drop(['WEEKDAY_APPR_PROCESS_START'] ,axis = 1, inplace = True)"
   ]
  },
  {
   "cell_type": "code",
   "execution_count": 153,
   "metadata": {
    "colab": {
     "base_uri": "https://localhost:8080/",
     "height": 299
    },
    "id": "j0nDEngTtw58",
    "outputId": "92246480-1ff9-46b1-c6f2-b14429f7f256"
   },
   "outputs": [
    {
     "data": {
      "text/html": [
       "<div>\n",
       "<style scoped>\n",
       "    .dataframe tbody tr th:only-of-type {\n",
       "        vertical-align: middle;\n",
       "    }\n",
       "\n",
       "    .dataframe tbody tr th {\n",
       "        vertical-align: top;\n",
       "    }\n",
       "\n",
       "    .dataframe thead th {\n",
       "        text-align: right;\n",
       "    }\n",
       "</style>\n",
       "<table border=\"1\" class=\"dataframe\">\n",
       "  <thead>\n",
       "    <tr style=\"text-align: right;\">\n",
       "      <th></th>\n",
       "      <th>SK_ID_CURR</th>\n",
       "      <th>TARGET</th>\n",
       "      <th>NAME_CONTRACT_TYPE</th>\n",
       "      <th>CODE_GENDER</th>\n",
       "      <th>CNT_CHILDREN</th>\n",
       "      <th>AMT_INCOME_TOTAL</th>\n",
       "      <th>AMT_CREDIT_x</th>\n",
       "      <th>NAME_TYPE_SUITE</th>\n",
       "      <th>NAME_INCOME_TYPE</th>\n",
       "      <th>NAME_EDUCATION_TYPE</th>\n",
       "      <th>NAME_FAMILY_STATUS</th>\n",
       "      <th>REGION_POPULATION_RELATIVE</th>\n",
       "      <th>DAYS_BIRTH</th>\n",
       "      <th>DAYS_EMPLOYED</th>\n",
       "      <th>OWN_CAR_AGE</th>\n",
       "      <th>OCCUPATION_TYPE</th>\n",
       "      <th>CNT_FAM_MEMBERS</th>\n",
       "      <th>REGION_RATING_CLIENT</th>\n",
       "      <th>REGION_RATING_CLIENT_W_CITY</th>\n",
       "      <th>HOUR_APPR_PROCESS_START</th>\n",
       "      <th>REG_CITY_NOT_WORK_CITY</th>\n",
       "      <th>TOTALAREA_MODE</th>\n",
       "      <th>DEF_30_CNT_SOCIAL_CIRCLE</th>\n",
       "      <th>FLAG_DOCUMENT_3</th>\n",
       "      <th>AMT_REQ_CREDIT_BUREAU_YEAR</th>\n",
       "      <th>CREDIT_ACTIVE</th>\n",
       "      <th>DAYS_CREDIT</th>\n",
       "      <th>AMT_CREDIT_SUM</th>\n",
       "      <th>AMT_BALANCE</th>\n",
       "      <th>AMT_PAYMENT_CURRENT</th>\n",
       "      <th>SK_DPD_x</th>\n",
       "      <th>SK_DPD_DEF</th>\n",
       "      <th>DAYS_INSTALMENT_delay</th>\n",
       "      <th>AMT_INSTALMENT_delta</th>\n",
       "      <th>AMT_ANNUITY</th>\n",
       "      <th>AMT_CREDIT_y</th>\n",
       "      <th>AMT_DOWN_PAYMENT</th>\n",
       "      <th>DAYS_DECISION</th>\n",
       "      <th>CNT_PAYMENT</th>\n",
       "      <th>DAYS_FIRST_DRAWING</th>\n",
       "      <th>DAYS_LAST_DUE</th>\n",
       "      <th>DAYS_TERMINATION</th>\n",
       "      <th>NAME_CONTRACT_STATUS</th>\n",
       "      <th>CODE_REJECT_REASON</th>\n",
       "      <th>NAME_CLIENT_TYPE</th>\n",
       "      <th>CNT_INSTALMENT_FUTURE</th>\n",
       "      <th>SK_DPD_y</th>\n",
       "    </tr>\n",
       "  </thead>\n",
       "  <tbody>\n",
       "    <tr>\n",
       "      <th>0</th>\n",
       "      <td>100002</td>\n",
       "      <td>1</td>\n",
       "      <td>Cash loans</td>\n",
       "      <td>M</td>\n",
       "      <td>0</td>\n",
       "      <td>202,500.00</td>\n",
       "      <td>406,597.50</td>\n",
       "      <td>Unaccompanied</td>\n",
       "      <td>working</td>\n",
       "      <td>low_educ</td>\n",
       "      <td>not_married</td>\n",
       "      <td>0.02</td>\n",
       "      <td>-9461</td>\n",
       "      <td>-637</td>\n",
       "      <td>NaN</td>\n",
       "      <td>other</td>\n",
       "      <td>1.00</td>\n",
       "      <td>2</td>\n",
       "      <td>2</td>\n",
       "      <td>10</td>\n",
       "      <td>0</td>\n",
       "      <td>0.01</td>\n",
       "      <td>2.00</td>\n",
       "      <td>1</td>\n",
       "      <td>1.00</td>\n",
       "      <td>Closed</td>\n",
       "      <td>-874.00</td>\n",
       "      <td>108,131.95</td>\n",
       "      <td>NaN</td>\n",
       "      <td>NaN</td>\n",
       "      <td>NaN</td>\n",
       "      <td>NaN</td>\n",
       "      <td>-20.42</td>\n",
       "      <td>0.00</td>\n",
       "      <td>9,251.78</td>\n",
       "      <td>179,055.00</td>\n",
       "      <td>0.00</td>\n",
       "      <td>-606.00</td>\n",
       "      <td>24.00</td>\n",
       "      <td>365,243.00</td>\n",
       "      <td>-25.00</td>\n",
       "      <td>-17.00</td>\n",
       "      <td>Approved</td>\n",
       "      <td>XAP</td>\n",
       "      <td>New</td>\n",
       "      <td>15.00</td>\n",
       "      <td>0.00</td>\n",
       "    </tr>\n",
       "    <tr>\n",
       "      <th>1</th>\n",
       "      <td>100003</td>\n",
       "      <td>0</td>\n",
       "      <td>Cash loans</td>\n",
       "      <td>F</td>\n",
       "      <td>0</td>\n",
       "      <td>270,000.00</td>\n",
       "      <td>1,293,502.50</td>\n",
       "      <td>Family</td>\n",
       "      <td>working</td>\n",
       "      <td>high_educ</td>\n",
       "      <td>married</td>\n",
       "      <td>0.00</td>\n",
       "      <td>-16765</td>\n",
       "      <td>-1188</td>\n",
       "      <td>NaN</td>\n",
       "      <td>other</td>\n",
       "      <td>2.00</td>\n",
       "      <td>1</td>\n",
       "      <td>1</td>\n",
       "      <td>11</td>\n",
       "      <td>0</td>\n",
       "      <td>0.07</td>\n",
       "      <td>0.00</td>\n",
       "      <td>1</td>\n",
       "      <td>0.00</td>\n",
       "      <td>Closed</td>\n",
       "      <td>-1,400.75</td>\n",
       "      <td>254,350.12</td>\n",
       "      <td>NaN</td>\n",
       "      <td>NaN</td>\n",
       "      <td>NaN</td>\n",
       "      <td>NaN</td>\n",
       "      <td>-7.00</td>\n",
       "      <td>0.00</td>\n",
       "      <td>56,553.99</td>\n",
       "      <td>484,191.00</td>\n",
       "      <td>3,442.50</td>\n",
       "      <td>-1,305.00</td>\n",
       "      <td>10.00</td>\n",
       "      <td>365,243.00</td>\n",
       "      <td>-1,054.33</td>\n",
       "      <td>-1,047.33</td>\n",
       "      <td>Approved</td>\n",
       "      <td>XAP</td>\n",
       "      <td>Refreshed</td>\n",
       "      <td>4.91</td>\n",
       "      <td>0.00</td>\n",
       "    </tr>\n",
       "    <tr>\n",
       "      <th>2</th>\n",
       "      <td>100004</td>\n",
       "      <td>0</td>\n",
       "      <td>Revolving loans</td>\n",
       "      <td>M</td>\n",
       "      <td>0</td>\n",
       "      <td>67,500.00</td>\n",
       "      <td>135,000.00</td>\n",
       "      <td>Unaccompanied</td>\n",
       "      <td>working</td>\n",
       "      <td>low_educ</td>\n",
       "      <td>not_married</td>\n",
       "      <td>0.01</td>\n",
       "      <td>-19046</td>\n",
       "      <td>-225</td>\n",
       "      <td>26.00</td>\n",
       "      <td>other</td>\n",
       "      <td>1.00</td>\n",
       "      <td>2</td>\n",
       "      <td>2</td>\n",
       "      <td>9</td>\n",
       "      <td>0</td>\n",
       "      <td>NaN</td>\n",
       "      <td>0.00</td>\n",
       "      <td>0</td>\n",
       "      <td>0.00</td>\n",
       "      <td>Closed</td>\n",
       "      <td>-867.00</td>\n",
       "      <td>94,518.90</td>\n",
       "      <td>NaN</td>\n",
       "      <td>NaN</td>\n",
       "      <td>NaN</td>\n",
       "      <td>NaN</td>\n",
       "      <td>-3.00</td>\n",
       "      <td>0.00</td>\n",
       "      <td>5,357.25</td>\n",
       "      <td>20,106.00</td>\n",
       "      <td>4,860.00</td>\n",
       "      <td>-815.00</td>\n",
       "      <td>4.00</td>\n",
       "      <td>365,243.00</td>\n",
       "      <td>-724.00</td>\n",
       "      <td>-714.00</td>\n",
       "      <td>Approved</td>\n",
       "      <td>XAP</td>\n",
       "      <td>New</td>\n",
       "      <td>0.00</td>\n",
       "      <td>0.00</td>\n",
       "    </tr>\n",
       "    <tr>\n",
       "      <th>3</th>\n",
       "      <td>100006</td>\n",
       "      <td>0</td>\n",
       "      <td>Cash loans</td>\n",
       "      <td>F</td>\n",
       "      <td>0</td>\n",
       "      <td>135,000.00</td>\n",
       "      <td>312,682.50</td>\n",
       "      <td>Unaccompanied</td>\n",
       "      <td>working</td>\n",
       "      <td>low_educ</td>\n",
       "      <td>married</td>\n",
       "      <td>0.01</td>\n",
       "      <td>-19005</td>\n",
       "      <td>-3039</td>\n",
       "      <td>NaN</td>\n",
       "      <td>other</td>\n",
       "      <td>2.00</td>\n",
       "      <td>2</td>\n",
       "      <td>2</td>\n",
       "      <td>17</td>\n",
       "      <td>0</td>\n",
       "      <td>NaN</td>\n",
       "      <td>0.00</td>\n",
       "      <td>1</td>\n",
       "      <td>NaN</td>\n",
       "      <td>NaN</td>\n",
       "      <td>NaN</td>\n",
       "      <td>NaN</td>\n",
       "      <td>0.00</td>\n",
       "      <td>NaN</td>\n",
       "      <td>0.00</td>\n",
       "      <td>0.00</td>\n",
       "      <td>-19.38</td>\n",
       "      <td>0.00</td>\n",
       "      <td>23,651.18</td>\n",
       "      <td>291,695.50</td>\n",
       "      <td>34,840.17</td>\n",
       "      <td>-272.44</td>\n",
       "      <td>23.00</td>\n",
       "      <td>365,243.00</td>\n",
       "      <td>182,477.50</td>\n",
       "      <td>182,481.75</td>\n",
       "      <td>Approved</td>\n",
       "      <td>XAP</td>\n",
       "      <td>Repeater</td>\n",
       "      <td>8.65</td>\n",
       "      <td>0.00</td>\n",
       "    </tr>\n",
       "    <tr>\n",
       "      <th>4</th>\n",
       "      <td>100007</td>\n",
       "      <td>0</td>\n",
       "      <td>Cash loans</td>\n",
       "      <td>M</td>\n",
       "      <td>0</td>\n",
       "      <td>121,500.00</td>\n",
       "      <td>513,000.00</td>\n",
       "      <td>Unaccompanied</td>\n",
       "      <td>working</td>\n",
       "      <td>low_educ</td>\n",
       "      <td>not_married</td>\n",
       "      <td>0.03</td>\n",
       "      <td>-19932</td>\n",
       "      <td>-3038</td>\n",
       "      <td>NaN</td>\n",
       "      <td>other</td>\n",
       "      <td>1.00</td>\n",
       "      <td>2</td>\n",
       "      <td>2</td>\n",
       "      <td>11</td>\n",
       "      <td>1</td>\n",
       "      <td>NaN</td>\n",
       "      <td>0.00</td>\n",
       "      <td>0</td>\n",
       "      <td>0.00</td>\n",
       "      <td>Closed</td>\n",
       "      <td>-1,149.00</td>\n",
       "      <td>146,250.00</td>\n",
       "      <td>NaN</td>\n",
       "      <td>NaN</td>\n",
       "      <td>NaN</td>\n",
       "      <td>NaN</td>\n",
       "      <td>-6.32</td>\n",
       "      <td>0.00</td>\n",
       "      <td>12,278.80</td>\n",
       "      <td>166,638.75</td>\n",
       "      <td>3,390.75</td>\n",
       "      <td>-1,222.83</td>\n",
       "      <td>20.67</td>\n",
       "      <td>365,243.00</td>\n",
       "      <td>72,136.20</td>\n",
       "      <td>72,143.80</td>\n",
       "      <td>Approved</td>\n",
       "      <td>XAP</td>\n",
       "      <td>Repeater</td>\n",
       "      <td>11.66</td>\n",
       "      <td>0.00</td>\n",
       "    </tr>\n",
       "  </tbody>\n",
       "</table>\n",
       "</div>"
      ],
      "text/plain": [
       "   SK_ID_CURR  TARGET NAME_CONTRACT_TYPE CODE_GENDER  CNT_CHILDREN  \\\n",
       "0      100002       1         Cash loans           M             0   \n",
       "1      100003       0         Cash loans           F             0   \n",
       "2      100004       0    Revolving loans           M             0   \n",
       "3      100006       0         Cash loans           F             0   \n",
       "4      100007       0         Cash loans           M             0   \n",
       "\n",
       "   AMT_INCOME_TOTAL  AMT_CREDIT_x NAME_TYPE_SUITE NAME_INCOME_TYPE  \\\n",
       "0        202,500.00    406,597.50   Unaccompanied          working   \n",
       "1        270,000.00  1,293,502.50          Family          working   \n",
       "2         67,500.00    135,000.00   Unaccompanied          working   \n",
       "3        135,000.00    312,682.50   Unaccompanied          working   \n",
       "4        121,500.00    513,000.00   Unaccompanied          working   \n",
       "\n",
       "  NAME_EDUCATION_TYPE NAME_FAMILY_STATUS  REGION_POPULATION_RELATIVE  \\\n",
       "0            low_educ        not_married                        0.02   \n",
       "1           high_educ            married                        0.00   \n",
       "2            low_educ        not_married                        0.01   \n",
       "3            low_educ            married                        0.01   \n",
       "4            low_educ        not_married                        0.03   \n",
       "\n",
       "   DAYS_BIRTH  DAYS_EMPLOYED  OWN_CAR_AGE OCCUPATION_TYPE  CNT_FAM_MEMBERS  \\\n",
       "0       -9461           -637          NaN           other             1.00   \n",
       "1      -16765          -1188          NaN           other             2.00   \n",
       "2      -19046           -225        26.00           other             1.00   \n",
       "3      -19005          -3039          NaN           other             2.00   \n",
       "4      -19932          -3038          NaN           other             1.00   \n",
       "\n",
       "   REGION_RATING_CLIENT  REGION_RATING_CLIENT_W_CITY  HOUR_APPR_PROCESS_START  \\\n",
       "0                     2                            2                       10   \n",
       "1                     1                            1                       11   \n",
       "2                     2                            2                        9   \n",
       "3                     2                            2                       17   \n",
       "4                     2                            2                       11   \n",
       "\n",
       "   REG_CITY_NOT_WORK_CITY  TOTALAREA_MODE  DEF_30_CNT_SOCIAL_CIRCLE  \\\n",
       "0                       0            0.01                      2.00   \n",
       "1                       0            0.07                      0.00   \n",
       "2                       0             NaN                      0.00   \n",
       "3                       0             NaN                      0.00   \n",
       "4                       1             NaN                      0.00   \n",
       "\n",
       "   FLAG_DOCUMENT_3  AMT_REQ_CREDIT_BUREAU_YEAR CREDIT_ACTIVE  DAYS_CREDIT  \\\n",
       "0                1                        1.00        Closed      -874.00   \n",
       "1                1                        0.00        Closed    -1,400.75   \n",
       "2                0                        0.00        Closed      -867.00   \n",
       "3                1                         NaN           NaN          NaN   \n",
       "4                0                        0.00        Closed    -1,149.00   \n",
       "\n",
       "   AMT_CREDIT_SUM  AMT_BALANCE  AMT_PAYMENT_CURRENT  SK_DPD_x  SK_DPD_DEF  \\\n",
       "0      108,131.95          NaN                  NaN       NaN         NaN   \n",
       "1      254,350.12          NaN                  NaN       NaN         NaN   \n",
       "2       94,518.90          NaN                  NaN       NaN         NaN   \n",
       "3             NaN         0.00                  NaN      0.00        0.00   \n",
       "4      146,250.00          NaN                  NaN       NaN         NaN   \n",
       "\n",
       "   DAYS_INSTALMENT_delay  AMT_INSTALMENT_delta  AMT_ANNUITY  AMT_CREDIT_y  \\\n",
       "0                 -20.42                  0.00     9,251.78    179,055.00   \n",
       "1                  -7.00                  0.00    56,553.99    484,191.00   \n",
       "2                  -3.00                  0.00     5,357.25     20,106.00   \n",
       "3                 -19.38                  0.00    23,651.18    291,695.50   \n",
       "4                  -6.32                  0.00    12,278.80    166,638.75   \n",
       "\n",
       "   AMT_DOWN_PAYMENT  DAYS_DECISION  CNT_PAYMENT  DAYS_FIRST_DRAWING  \\\n",
       "0              0.00        -606.00        24.00          365,243.00   \n",
       "1          3,442.50      -1,305.00        10.00          365,243.00   \n",
       "2          4,860.00        -815.00         4.00          365,243.00   \n",
       "3         34,840.17        -272.44        23.00          365,243.00   \n",
       "4          3,390.75      -1,222.83        20.67          365,243.00   \n",
       "\n",
       "   DAYS_LAST_DUE  DAYS_TERMINATION NAME_CONTRACT_STATUS CODE_REJECT_REASON  \\\n",
       "0         -25.00            -17.00             Approved                XAP   \n",
       "1      -1,054.33         -1,047.33             Approved                XAP   \n",
       "2        -724.00           -714.00             Approved                XAP   \n",
       "3     182,477.50        182,481.75             Approved                XAP   \n",
       "4      72,136.20         72,143.80             Approved                XAP   \n",
       "\n",
       "  NAME_CLIENT_TYPE  CNT_INSTALMENT_FUTURE  SK_DPD_y  \n",
       "0              New                  15.00      0.00  \n",
       "1        Refreshed                   4.91      0.00  \n",
       "2              New                   0.00      0.00  \n",
       "3         Repeater                   8.65      0.00  \n",
       "4         Repeater                  11.66      0.00  "
      ]
     },
     "execution_count": 153,
     "metadata": {},
     "output_type": "execute_result"
    }
   ],
   "source": [
    "df_final.head()"
   ]
  },
  {
   "cell_type": "code",
   "execution_count": 154,
   "metadata": {
    "colab": {
     "base_uri": "https://localhost:8080/",
     "height": 801
    },
    "id": "XkCugdUwnKHN",
    "outputId": "e337c30a-127a-4a40-a720-2db15c17736a"
   },
   "outputs": [],
   "source": [
    "df_final.to_csv('df_final.csv')"
   ]
  },
  {
   "cell_type": "markdown",
   "metadata": {
    "id": "j3fpyquynKHN"
   },
   "source": [
    "### Conclusion"
   ]
  },
  {
   "cell_type": "markdown",
   "metadata": {
    "id": "W4ChRVtNnKHO"
   },
   "source": [
    "On a mergé tous les fichiers ensembles en minimisant le nombre de colonnes et de lignes en se basant sur l'analyse exploratoire.\n",
    "Le dataframe finalement retenu est de taille (307511, 48)."
   ]
  },
  {
   "cell_type": "code",
   "execution_count": null,
   "metadata": {},
   "outputs": [],
   "source": []
  }
 ],
 "metadata": {
  "colab": {
   "name": "P7_feature_engineering.ipynb",
   "provenance": []
  },
  "kernelspec": {
   "display_name": "Python 3 (ipykernel)",
   "language": "python",
   "name": "python3"
  },
  "language_info": {
   "codemirror_mode": {
    "name": "ipython",
    "version": 3
   },
   "file_extension": ".py",
   "mimetype": "text/x-python",
   "name": "python",
   "nbconvert_exporter": "python",
   "pygments_lexer": "ipython3",
   "version": "3.9.12"
  }
 },
 "nbformat": 4,
 "nbformat_minor": 1
}
